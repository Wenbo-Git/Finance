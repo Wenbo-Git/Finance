{
 "cells": [
  {
   "cell_type": "markdown",
   "metadata": {},
   "source": [
    "You work for an asset management firm as a research analyst. One day, a client called the portfolio manager to do research on two stocks, Stock A and Stock B, to find out which one would have a higher monthly return. The portfolio manager asked you to collect some data points and provide some statistics. From the table below, it looks like the mean monthly return on stock A appears to have been substantially different than the mean return on stock B. Was the difference statistically significant? Since the difference in standard deviations between these two stocks is small, we can assume equal population variances for returns in the two stocks. (for a two-sided test, the rejection points are ±1.667, ±1.994, and ±2.648 for, respectively, the 0.10, 0.05, and 0.01 levels for df = 70)"
   ]
  },
  {
   "cell_type": "code",
   "execution_count": 1,
   "metadata": {},
   "outputs": [],
   "source": [
    "import pandas as pd"
   ]
  },
  {
   "cell_type": "code",
   "execution_count": 2,
   "metadata": {},
   "outputs": [],
   "source": [
    "data = {\"Asset\" : [\"Stock A\", \"Stock B\"],\\\n",
    "        \"Number of Months (n)\" : [36, 36],\\\n",
    "        \"Mean Monthly Return (%)\" : [1.694, 0.665],\\\n",
    "        \"Standard Deviation\" : [4.115, 3.779]}"
   ]
  },
  {
   "cell_type": "code",
   "execution_count": 3,
   "metadata": {},
   "outputs": [],
   "source": [
    "df = pd.DataFrame(data)"
   ]
  },
  {
   "cell_type": "code",
   "execution_count": 4,
   "metadata": {},
   "outputs": [
    {
     "data": {
      "text/html": [
       "<div>\n",
       "<style scoped>\n",
       "    .dataframe tbody tr th:only-of-type {\n",
       "        vertical-align: middle;\n",
       "    }\n",
       "\n",
       "    .dataframe tbody tr th {\n",
       "        vertical-align: top;\n",
       "    }\n",
       "\n",
       "    .dataframe thead th {\n",
       "        text-align: right;\n",
       "    }\n",
       "</style>\n",
       "<table border=\"1\" class=\"dataframe\">\n",
       "  <thead>\n",
       "    <tr style=\"text-align: right;\">\n",
       "      <th></th>\n",
       "      <th>Asset</th>\n",
       "      <th>Number of Months (n)</th>\n",
       "      <th>Mean Monthly Return (%)</th>\n",
       "      <th>Standard Deviation</th>\n",
       "    </tr>\n",
       "  </thead>\n",
       "  <tbody>\n",
       "    <tr>\n",
       "      <th>0</th>\n",
       "      <td>Stock A</td>\n",
       "      <td>36</td>\n",
       "      <td>1.694</td>\n",
       "      <td>4.115</td>\n",
       "    </tr>\n",
       "    <tr>\n",
       "      <th>1</th>\n",
       "      <td>Stock B</td>\n",
       "      <td>36</td>\n",
       "      <td>0.665</td>\n",
       "      <td>3.779</td>\n",
       "    </tr>\n",
       "  </tbody>\n",
       "</table>\n",
       "</div>"
      ],
      "text/plain": [
       "     Asset  Number of Months (n)  Mean Monthly Return (%)  Standard Deviation\n",
       "0  Stock A                    36                    1.694               4.115\n",
       "1  Stock B                    36                    0.665               3.779"
      ]
     },
     "execution_count": 4,
     "metadata": {},
     "output_type": "execute_result"
    }
   ],
   "source": [
    "df"
   ]
  },
  {
   "cell_type": "markdown",
   "metadata": {},
   "source": [
    "$t = \\frac{(\\bar{X_{1}}-\\bar{X_{2}})-(\\mu_{1}-\\mu_{2})}{(\\frac{s_{p}^{2}}{n_{1}}+\\frac{s_{p}^{2}}{n_{2}})^{\\frac{1}{2}}}$"
   ]
  },
  {
   "cell_type": "markdown",
   "metadata": {},
   "source": [
    "$s_{p}^{2} = \\frac{(n_{1}-1)s_{1}^{2}+(n_{2}-1)s_{2}^{2}}{n_{1}+n_{2}-2}$"
   ]
  },
  {
   "cell_type": "markdown",
   "metadata": {},
   "source": [
    "$df = n_{1}+n_{2}-2$"
   ]
  },
  {
   "cell_type": "markdown",
   "metadata": {},
   "source": [
    "Since there is no statistically significant difference in the average monthly returns between Stock A and Stock B, the client has decided to add both stocks to the current portfolio that consists of only Stock C. What are the weight percentages of Stock A and Stock B should the portfolio manager choose in order to maxmize the Sharpe ratio of the overall client's portfolio?"
   ]
  }
 ],
 "metadata": {
  "kernelspec": {
   "display_name": "Python 3",
   "language": "python",
   "name": "python3"
  },
  "language_info": {
   "codemirror_mode": {
    "name": "ipython",
    "version": 3
   },
   "file_extension": ".py",
   "mimetype": "text/x-python",
   "name": "python",
   "nbconvert_exporter": "python",
   "pygments_lexer": "ipython3",
   "version": "3.8.3"
  }
 },
 "nbformat": 4,
 "nbformat_minor": 4
}
