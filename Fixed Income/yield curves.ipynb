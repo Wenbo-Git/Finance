{
 "cells": [
  {
   "cell_type": "code",
   "execution_count": 1,
   "metadata": {},
   "outputs": [],
   "source": [
    "import pandas as pd\n",
    "import matplotlib.pyplot as plt"
   ]
  },
  {
   "cell_type": "markdown",
   "metadata": {},
   "source": [
    "Data Source:\n",
    "\n",
    "https://home.treasury.gov/policy-issues/financing-the-government/interest-rate-statistics"
   ]
  },
  {
   "cell_type": "code",
   "execution_count": 15,
   "metadata": {},
   "outputs": [
    {
     "data": {
      "text/html": [
       "<div>\n",
       "<style scoped>\n",
       "    .dataframe tbody tr th:only-of-type {\n",
       "        vertical-align: middle;\n",
       "    }\n",
       "\n",
       "    .dataframe tbody tr th {\n",
       "        vertical-align: top;\n",
       "    }\n",
       "\n",
       "    .dataframe thead th {\n",
       "        text-align: right;\n",
       "    }\n",
       "</style>\n",
       "<table border=\"1\" class=\"dataframe\">\n",
       "  <thead>\n",
       "    <tr style=\"text-align: right;\">\n",
       "      <th></th>\n",
       "      <th>Date</th>\n",
       "      <th>1 Mo</th>\n",
       "      <th>2 Mo</th>\n",
       "      <th>3 Mo</th>\n",
       "      <th>6 Mo</th>\n",
       "      <th>1 Yr</th>\n",
       "      <th>2 Yr</th>\n",
       "      <th>3 Yr</th>\n",
       "      <th>5 Yr</th>\n",
       "      <th>7 Yr</th>\n",
       "      <th>10 Yr</th>\n",
       "      <th>20 Yr</th>\n",
       "      <th>30 Yr</th>\n",
       "    </tr>\n",
       "  </thead>\n",
       "  <tbody>\n",
       "    <tr>\n",
       "      <th>0</th>\n",
       "      <td>04/14/2022</td>\n",
       "      <td>0.37</td>\n",
       "      <td>0.57</td>\n",
       "      <td>0.79</td>\n",
       "      <td>1.25</td>\n",
       "      <td>1.84</td>\n",
       "      <td>2.47</td>\n",
       "      <td>2.67</td>\n",
       "      <td>2.79</td>\n",
       "      <td>2.84</td>\n",
       "      <td>2.83</td>\n",
       "      <td>3.09</td>\n",
       "      <td>2.92</td>\n",
       "    </tr>\n",
       "    <tr>\n",
       "      <th>1</th>\n",
       "      <td>04/13/2022</td>\n",
       "      <td>0.26</td>\n",
       "      <td>0.52</td>\n",
       "      <td>0.75</td>\n",
       "      <td>1.20</td>\n",
       "      <td>1.78</td>\n",
       "      <td>2.37</td>\n",
       "      <td>2.57</td>\n",
       "      <td>2.66</td>\n",
       "      <td>2.71</td>\n",
       "      <td>2.70</td>\n",
       "      <td>2.97</td>\n",
       "      <td>2.81</td>\n",
       "    </tr>\n",
       "    <tr>\n",
       "      <th>2</th>\n",
       "      <td>04/12/2022</td>\n",
       "      <td>0.21</td>\n",
       "      <td>0.52</td>\n",
       "      <td>0.74</td>\n",
       "      <td>1.20</td>\n",
       "      <td>1.77</td>\n",
       "      <td>2.39</td>\n",
       "      <td>2.58</td>\n",
       "      <td>2.66</td>\n",
       "      <td>2.73</td>\n",
       "      <td>2.72</td>\n",
       "      <td>2.99</td>\n",
       "      <td>2.82</td>\n",
       "    </tr>\n",
       "    <tr>\n",
       "      <th>3</th>\n",
       "      <td>04/11/2022</td>\n",
       "      <td>0.22</td>\n",
       "      <td>0.54</td>\n",
       "      <td>0.77</td>\n",
       "      <td>1.23</td>\n",
       "      <td>1.85</td>\n",
       "      <td>2.50</td>\n",
       "      <td>2.73</td>\n",
       "      <td>2.79</td>\n",
       "      <td>2.84</td>\n",
       "      <td>2.79</td>\n",
       "      <td>3.02</td>\n",
       "      <td>2.84</td>\n",
       "    </tr>\n",
       "    <tr>\n",
       "      <th>4</th>\n",
       "      <td>04/08/2022</td>\n",
       "      <td>0.20</td>\n",
       "      <td>0.49</td>\n",
       "      <td>0.70</td>\n",
       "      <td>1.19</td>\n",
       "      <td>1.81</td>\n",
       "      <td>2.53</td>\n",
       "      <td>2.73</td>\n",
       "      <td>2.76</td>\n",
       "      <td>2.79</td>\n",
       "      <td>2.72</td>\n",
       "      <td>2.94</td>\n",
       "      <td>2.76</td>\n",
       "    </tr>\n",
       "    <tr>\n",
       "      <th>...</th>\n",
       "      <td>...</td>\n",
       "      <td>...</td>\n",
       "      <td>...</td>\n",
       "      <td>...</td>\n",
       "      <td>...</td>\n",
       "      <td>...</td>\n",
       "      <td>...</td>\n",
       "      <td>...</td>\n",
       "      <td>...</td>\n",
       "      <td>...</td>\n",
       "      <td>...</td>\n",
       "      <td>...</td>\n",
       "      <td>...</td>\n",
       "    </tr>\n",
       "    <tr>\n",
       "      <th>67</th>\n",
       "      <td>01/07/2022</td>\n",
       "      <td>0.05</td>\n",
       "      <td>0.05</td>\n",
       "      <td>0.10</td>\n",
       "      <td>0.24</td>\n",
       "      <td>0.43</td>\n",
       "      <td>0.87</td>\n",
       "      <td>1.17</td>\n",
       "      <td>1.50</td>\n",
       "      <td>1.69</td>\n",
       "      <td>1.76</td>\n",
       "      <td>2.15</td>\n",
       "      <td>2.11</td>\n",
       "    </tr>\n",
       "    <tr>\n",
       "      <th>68</th>\n",
       "      <td>01/06/2022</td>\n",
       "      <td>0.04</td>\n",
       "      <td>0.05</td>\n",
       "      <td>0.10</td>\n",
       "      <td>0.23</td>\n",
       "      <td>0.45</td>\n",
       "      <td>0.88</td>\n",
       "      <td>1.15</td>\n",
       "      <td>1.47</td>\n",
       "      <td>1.66</td>\n",
       "      <td>1.73</td>\n",
       "      <td>2.12</td>\n",
       "      <td>2.09</td>\n",
       "    </tr>\n",
       "    <tr>\n",
       "      <th>69</th>\n",
       "      <td>01/05/2022</td>\n",
       "      <td>0.05</td>\n",
       "      <td>0.06</td>\n",
       "      <td>0.09</td>\n",
       "      <td>0.22</td>\n",
       "      <td>0.41</td>\n",
       "      <td>0.83</td>\n",
       "      <td>1.10</td>\n",
       "      <td>1.43</td>\n",
       "      <td>1.62</td>\n",
       "      <td>1.71</td>\n",
       "      <td>2.12</td>\n",
       "      <td>2.09</td>\n",
       "    </tr>\n",
       "    <tr>\n",
       "      <th>70</th>\n",
       "      <td>01/04/2022</td>\n",
       "      <td>0.06</td>\n",
       "      <td>0.05</td>\n",
       "      <td>0.08</td>\n",
       "      <td>0.22</td>\n",
       "      <td>0.38</td>\n",
       "      <td>0.77</td>\n",
       "      <td>1.02</td>\n",
       "      <td>1.37</td>\n",
       "      <td>1.57</td>\n",
       "      <td>1.66</td>\n",
       "      <td>2.10</td>\n",
       "      <td>2.07</td>\n",
       "    </tr>\n",
       "    <tr>\n",
       "      <th>71</th>\n",
       "      <td>01/03/2022</td>\n",
       "      <td>0.05</td>\n",
       "      <td>0.06</td>\n",
       "      <td>0.08</td>\n",
       "      <td>0.22</td>\n",
       "      <td>0.40</td>\n",
       "      <td>0.78</td>\n",
       "      <td>1.04</td>\n",
       "      <td>1.37</td>\n",
       "      <td>1.55</td>\n",
       "      <td>1.63</td>\n",
       "      <td>2.05</td>\n",
       "      <td>2.01</td>\n",
       "    </tr>\n",
       "  </tbody>\n",
       "</table>\n",
       "<p>72 rows × 13 columns</p>\n",
       "</div>"
      ],
      "text/plain": [
       "          Date  1 Mo  2 Mo  3 Mo  6 Mo  1 Yr  2 Yr  3 Yr  5 Yr  7 Yr  10 Yr  \\\n",
       "0   04/14/2022  0.37  0.57  0.79  1.25  1.84  2.47  2.67  2.79  2.84   2.83   \n",
       "1   04/13/2022  0.26  0.52  0.75  1.20  1.78  2.37  2.57  2.66  2.71   2.70   \n",
       "2   04/12/2022  0.21  0.52  0.74  1.20  1.77  2.39  2.58  2.66  2.73   2.72   \n",
       "3   04/11/2022  0.22  0.54  0.77  1.23  1.85  2.50  2.73  2.79  2.84   2.79   \n",
       "4   04/08/2022  0.20  0.49  0.70  1.19  1.81  2.53  2.73  2.76  2.79   2.72   \n",
       "..         ...   ...   ...   ...   ...   ...   ...   ...   ...   ...    ...   \n",
       "67  01/07/2022  0.05  0.05  0.10  0.24  0.43  0.87  1.17  1.50  1.69   1.76   \n",
       "68  01/06/2022  0.04  0.05  0.10  0.23  0.45  0.88  1.15  1.47  1.66   1.73   \n",
       "69  01/05/2022  0.05  0.06  0.09  0.22  0.41  0.83  1.10  1.43  1.62   1.71   \n",
       "70  01/04/2022  0.06  0.05  0.08  0.22  0.38  0.77  1.02  1.37  1.57   1.66   \n",
       "71  01/03/2022  0.05  0.06  0.08  0.22  0.40  0.78  1.04  1.37  1.55   1.63   \n",
       "\n",
       "    20 Yr  30 Yr  \n",
       "0    3.09   2.92  \n",
       "1    2.97   2.81  \n",
       "2    2.99   2.82  \n",
       "3    3.02   2.84  \n",
       "4    2.94   2.76  \n",
       "..    ...    ...  \n",
       "67   2.15   2.11  \n",
       "68   2.12   2.09  \n",
       "69   2.12   2.09  \n",
       "70   2.10   2.07  \n",
       "71   2.05   2.01  \n",
       "\n",
       "[72 rows x 13 columns]"
      ]
     },
     "execution_count": 15,
     "metadata": {},
     "output_type": "execute_result"
    }
   ],
   "source": [
    "start_date = \"01/03/2022\"\n",
    "end_date = \"04/14/2022\"\n",
    "\n",
    "df = pd.read_csv(\"daily-treasury-rates.csv\")\n",
    "df"
   ]
  },
  {
   "cell_type": "code",
   "execution_count": 16,
   "metadata": {},
   "outputs": [
    {
     "name": "stdout",
     "output_type": "stream",
     "text": [
      "<class 'pandas.core.frame.DataFrame'>\n",
      "RangeIndex: 72 entries, 0 to 71\n",
      "Data columns (total 13 columns):\n",
      " #   Column  Non-Null Count  Dtype  \n",
      "---  ------  --------------  -----  \n",
      " 0   Date    72 non-null     object \n",
      " 1   1 Mo    72 non-null     float64\n",
      " 2   2 Mo    72 non-null     float64\n",
      " 3   3 Mo    72 non-null     float64\n",
      " 4   6 Mo    72 non-null     float64\n",
      " 5   1 Yr    72 non-null     float64\n",
      " 6   2 Yr    72 non-null     float64\n",
      " 7   3 Yr    72 non-null     float64\n",
      " 8   5 Yr    72 non-null     float64\n",
      " 9   7 Yr    72 non-null     float64\n",
      " 10  10 Yr   72 non-null     float64\n",
      " 11  20 Yr   72 non-null     float64\n",
      " 12  30 Yr   72 non-null     float64\n",
      "dtypes: float64(12), object(1)\n",
      "memory usage: 7.4+ KB\n"
     ]
    }
   ],
   "source": [
    "df.info()"
   ]
  },
  {
   "cell_type": "code",
   "execution_count": 17,
   "metadata": {},
   "outputs": [],
   "source": [
    "df[\"Date\"] = pd.to_datetime(df[\"Date\"])"
   ]
  },
  {
   "cell_type": "code",
   "execution_count": 19,
   "metadata": {},
   "outputs": [
    {
     "data": {
      "text/plain": [
       "<matplotlib.legend.Legend at 0x1d51f2b16d0>"
      ]
     },
     "execution_count": 19,
     "metadata": {},
     "output_type": "execute_result"
    },
    {
     "data": {
      "image/png": "[encoded data removed]",
      "text/plain": [
       "<Figure size 1152x576 with 1 Axes>"
      ]
     },
     "metadata": {
      "needs_background": "light"
     },
     "output_type": "display_data"
    }
   ],
   "source": [
    "plt.figure(figsize=(16,8))\n",
    "plt.grid(True)\n",
    "    \n",
    "plt.plot(df[\"Date\"], df[\"6 Mo\"], label = \"6 Mo\", color = \"red\")\n",
    "plt.plot(df[\"Date\"], df[\"2 Yr\"], label = \"2 Yr\", color = \"orange\")\n",
    "plt.plot(df[\"Date\"], df[\"10 Yr\"], label = \"10 Yr\", color = \"green\")\n",
    "plt.plot(df[\"Date\"], df[\"30 Yr\"], label = \"30 Yr\", color = \"blue\")\n",
    "  \n",
    "plt.title(\"Daily Treasury Par Yield Curve Rates {0} - {1}\".format(start_date, end_date))\n",
    "plt.xlabel(\"Date\")\n",
    "plt.ylabel(\"Yield\")\n",
    "plt.legend()"
   ]
  },
  {
   "cell_type": "code",
   "execution_count": 20,
   "metadata": {
    "scrolled": false
   },
   "outputs": [
    {
     "data": {
      "text/html": [
       "<div>\n",
       "<style scoped>\n",
       "    .dataframe tbody tr th:only-of-type {\n",
       "        vertical-align: middle;\n",
       "    }\n",
       "\n",
       "    .dataframe tbody tr th {\n",
       "        vertical-align: top;\n",
       "    }\n",
       "\n",
       "    .dataframe thead th {\n",
       "        text-align: right;\n",
       "    }\n",
       "</style>\n",
       "<table border=\"1\" class=\"dataframe\">\n",
       "  <thead>\n",
       "    <tr style=\"text-align: right;\">\n",
       "      <th>Date</th>\n",
       "      <th>2022-04-14</th>\n",
       "      <th>2022-04-13</th>\n",
       "      <th>2022-04-12</th>\n",
       "      <th>2022-04-11</th>\n",
       "      <th>2022-04-08</th>\n",
       "      <th>2022-04-07</th>\n",
       "      <th>2022-04-06</th>\n",
       "      <th>2022-04-05</th>\n",
       "      <th>2022-04-04</th>\n",
       "      <th>2022-04-01</th>\n",
       "      <th>...</th>\n",
       "      <th>2022-01-14</th>\n",
       "      <th>2022-01-13</th>\n",
       "      <th>2022-01-12</th>\n",
       "      <th>2022-01-11</th>\n",
       "      <th>2022-01-10</th>\n",
       "      <th>2022-01-07</th>\n",
       "      <th>2022-01-06</th>\n",
       "      <th>2022-01-05</th>\n",
       "      <th>2022-01-04</th>\n",
       "      <th>2022-01-03</th>\n",
       "    </tr>\n",
       "  </thead>\n",
       "  <tbody>\n",
       "    <tr>\n",
       "      <th>1 Mo</th>\n",
       "      <td>0.37</td>\n",
       "      <td>0.26</td>\n",
       "      <td>0.21</td>\n",
       "      <td>0.22</td>\n",
       "      <td>0.2</td>\n",
       "      <td>0.21</td>\n",
       "      <td>0.21</td>\n",
       "      <td>0.18</td>\n",
       "      <td>0.18</td>\n",
       "      <td>0.15</td>\n",
       "      <td>...</td>\n",
       "      <td>0.05</td>\n",
       "      <td>0.05</td>\n",
       "      <td>0.04</td>\n",
       "      <td>0.04</td>\n",
       "      <td>0.05</td>\n",
       "      <td>0.05</td>\n",
       "      <td>0.04</td>\n",
       "      <td>0.05</td>\n",
       "      <td>0.06</td>\n",
       "      <td>0.05</td>\n",
       "    </tr>\n",
       "    <tr>\n",
       "      <th>2 Mo</th>\n",
       "      <td>0.57</td>\n",
       "      <td>0.52</td>\n",
       "      <td>0.52</td>\n",
       "      <td>0.54</td>\n",
       "      <td>0.49</td>\n",
       "      <td>0.5</td>\n",
       "      <td>0.44</td>\n",
       "      <td>0.42</td>\n",
       "      <td>0.42</td>\n",
       "      <td>0.37</td>\n",
       "      <td>...</td>\n",
       "      <td>0.05</td>\n",
       "      <td>0.05</td>\n",
       "      <td>0.06</td>\n",
       "      <td>0.05</td>\n",
       "      <td>0.06</td>\n",
       "      <td>0.05</td>\n",
       "      <td>0.05</td>\n",
       "      <td>0.06</td>\n",
       "      <td>0.05</td>\n",
       "      <td>0.06</td>\n",
       "    </tr>\n",
       "    <tr>\n",
       "      <th>3 Mo</th>\n",
       "      <td>0.79</td>\n",
       "      <td>0.75</td>\n",
       "      <td>0.74</td>\n",
       "      <td>0.77</td>\n",
       "      <td>0.7</td>\n",
       "      <td>0.68</td>\n",
       "      <td>0.67</td>\n",
       "      <td>0.65</td>\n",
       "      <td>0.66</td>\n",
       "      <td>0.53</td>\n",
       "      <td>...</td>\n",
       "      <td>0.13</td>\n",
       "      <td>0.12</td>\n",
       "      <td>0.12</td>\n",
       "      <td>0.11</td>\n",
       "      <td>0.13</td>\n",
       "      <td>0.1</td>\n",
       "      <td>0.1</td>\n",
       "      <td>0.09</td>\n",
       "      <td>0.08</td>\n",
       "      <td>0.08</td>\n",
       "    </tr>\n",
       "    <tr>\n",
       "      <th>6 Mo</th>\n",
       "      <td>1.25</td>\n",
       "      <td>1.2</td>\n",
       "      <td>1.2</td>\n",
       "      <td>1.23</td>\n",
       "      <td>1.19</td>\n",
       "      <td>1.15</td>\n",
       "      <td>1.15</td>\n",
       "      <td>1.13</td>\n",
       "      <td>1.14</td>\n",
       "      <td>1.09</td>\n",
       "      <td>...</td>\n",
       "      <td>0.3</td>\n",
       "      <td>0.28</td>\n",
       "      <td>0.27</td>\n",
       "      <td>0.28</td>\n",
       "      <td>0.28</td>\n",
       "      <td>0.24</td>\n",
       "      <td>0.23</td>\n",
       "      <td>0.22</td>\n",
       "      <td>0.22</td>\n",
       "      <td>0.22</td>\n",
       "    </tr>\n",
       "    <tr>\n",
       "      <th>1 Yr</th>\n",
       "      <td>1.84</td>\n",
       "      <td>1.78</td>\n",
       "      <td>1.77</td>\n",
       "      <td>1.85</td>\n",
       "      <td>1.81</td>\n",
       "      <td>1.78</td>\n",
       "      <td>1.79</td>\n",
       "      <td>1.77</td>\n",
       "      <td>1.72</td>\n",
       "      <td>1.72</td>\n",
       "      <td>...</td>\n",
       "      <td>0.51</td>\n",
       "      <td>0.47</td>\n",
       "      <td>0.48</td>\n",
       "      <td>0.46</td>\n",
       "      <td>0.46</td>\n",
       "      <td>0.43</td>\n",
       "      <td>0.45</td>\n",
       "      <td>0.41</td>\n",
       "      <td>0.38</td>\n",
       "      <td>0.4</td>\n",
       "    </tr>\n",
       "    <tr>\n",
       "      <th>2 Yr</th>\n",
       "      <td>2.47</td>\n",
       "      <td>2.37</td>\n",
       "      <td>2.39</td>\n",
       "      <td>2.5</td>\n",
       "      <td>2.53</td>\n",
       "      <td>2.47</td>\n",
       "      <td>2.5</td>\n",
       "      <td>2.51</td>\n",
       "      <td>2.43</td>\n",
       "      <td>2.44</td>\n",
       "      <td>...</td>\n",
       "      <td>0.99</td>\n",
       "      <td>0.91</td>\n",
       "      <td>0.92</td>\n",
       "      <td>0.9</td>\n",
       "      <td>0.92</td>\n",
       "      <td>0.87</td>\n",
       "      <td>0.88</td>\n",
       "      <td>0.83</td>\n",
       "      <td>0.77</td>\n",
       "      <td>0.78</td>\n",
       "    </tr>\n",
       "    <tr>\n",
       "      <th>3 Yr</th>\n",
       "      <td>2.67</td>\n",
       "      <td>2.57</td>\n",
       "      <td>2.58</td>\n",
       "      <td>2.73</td>\n",
       "      <td>2.73</td>\n",
       "      <td>2.66</td>\n",
       "      <td>2.67</td>\n",
       "      <td>2.69</td>\n",
       "      <td>2.61</td>\n",
       "      <td>2.61</td>\n",
       "      <td>...</td>\n",
       "      <td>1.26</td>\n",
       "      <td>1.18</td>\n",
       "      <td>1.21</td>\n",
       "      <td>1.22</td>\n",
       "      <td>1.21</td>\n",
       "      <td>1.17</td>\n",
       "      <td>1.15</td>\n",
       "      <td>1.1</td>\n",
       "      <td>1.02</td>\n",
       "      <td>1.04</td>\n",
       "    </tr>\n",
       "    <tr>\n",
       "      <th>5 Yr</th>\n",
       "      <td>2.79</td>\n",
       "      <td>2.66</td>\n",
       "      <td>2.66</td>\n",
       "      <td>2.79</td>\n",
       "      <td>2.76</td>\n",
       "      <td>2.7</td>\n",
       "      <td>2.7</td>\n",
       "      <td>2.69</td>\n",
       "      <td>2.56</td>\n",
       "      <td>2.55</td>\n",
       "      <td>...</td>\n",
       "      <td>1.55</td>\n",
       "      <td>1.47</td>\n",
       "      <td>1.5</td>\n",
       "      <td>1.51</td>\n",
       "      <td>1.53</td>\n",
       "      <td>1.5</td>\n",
       "      <td>1.47</td>\n",
       "      <td>1.43</td>\n",
       "      <td>1.37</td>\n",
       "      <td>1.37</td>\n",
       "    </tr>\n",
       "    <tr>\n",
       "      <th>7 Yr</th>\n",
       "      <td>2.84</td>\n",
       "      <td>2.71</td>\n",
       "      <td>2.73</td>\n",
       "      <td>2.84</td>\n",
       "      <td>2.79</td>\n",
       "      <td>2.73</td>\n",
       "      <td>2.69</td>\n",
       "      <td>2.65</td>\n",
       "      <td>2.52</td>\n",
       "      <td>2.5</td>\n",
       "      <td>...</td>\n",
       "      <td>1.72</td>\n",
       "      <td>1.64</td>\n",
       "      <td>1.67</td>\n",
       "      <td>1.69</td>\n",
       "      <td>1.71</td>\n",
       "      <td>1.69</td>\n",
       "      <td>1.66</td>\n",
       "      <td>1.62</td>\n",
       "      <td>1.57</td>\n",
       "      <td>1.55</td>\n",
       "    </tr>\n",
       "    <tr>\n",
       "      <th>10 Yr</th>\n",
       "      <td>2.83</td>\n",
       "      <td>2.7</td>\n",
       "      <td>2.72</td>\n",
       "      <td>2.79</td>\n",
       "      <td>2.72</td>\n",
       "      <td>2.66</td>\n",
       "      <td>2.61</td>\n",
       "      <td>2.54</td>\n",
       "      <td>2.42</td>\n",
       "      <td>2.39</td>\n",
       "      <td>...</td>\n",
       "      <td>1.78</td>\n",
       "      <td>1.7</td>\n",
       "      <td>1.74</td>\n",
       "      <td>1.75</td>\n",
       "      <td>1.78</td>\n",
       "      <td>1.76</td>\n",
       "      <td>1.73</td>\n",
       "      <td>1.71</td>\n",
       "      <td>1.66</td>\n",
       "      <td>1.63</td>\n",
       "    </tr>\n",
       "    <tr>\n",
       "      <th>20 Yr</th>\n",
       "      <td>3.09</td>\n",
       "      <td>2.97</td>\n",
       "      <td>2.99</td>\n",
       "      <td>3.02</td>\n",
       "      <td>2.94</td>\n",
       "      <td>2.87</td>\n",
       "      <td>2.81</td>\n",
       "      <td>2.74</td>\n",
       "      <td>2.64</td>\n",
       "      <td>2.6</td>\n",
       "      <td>...</td>\n",
       "      <td>2.18</td>\n",
       "      <td>2.1</td>\n",
       "      <td>2.13</td>\n",
       "      <td>2.13</td>\n",
       "      <td>2.15</td>\n",
       "      <td>2.15</td>\n",
       "      <td>2.12</td>\n",
       "      <td>2.12</td>\n",
       "      <td>2.1</td>\n",
       "      <td>2.05</td>\n",
       "    </tr>\n",
       "    <tr>\n",
       "      <th>30 Yr</th>\n",
       "      <td>2.92</td>\n",
       "      <td>2.81</td>\n",
       "      <td>2.82</td>\n",
       "      <td>2.84</td>\n",
       "      <td>2.76</td>\n",
       "      <td>2.69</td>\n",
       "      <td>2.63</td>\n",
       "      <td>2.57</td>\n",
       "      <td>2.48</td>\n",
       "      <td>2.44</td>\n",
       "      <td>...</td>\n",
       "      <td>2.12</td>\n",
       "      <td>2.05</td>\n",
       "      <td>2.08</td>\n",
       "      <td>2.08</td>\n",
       "      <td>2.11</td>\n",
       "      <td>2.11</td>\n",
       "      <td>2.09</td>\n",
       "      <td>2.09</td>\n",
       "      <td>2.07</td>\n",
       "      <td>2.01</td>\n",
       "    </tr>\n",
       "  </tbody>\n",
       "</table>\n",
       "<p>12 rows × 72 columns</p>\n",
       "</div>"
      ],
      "text/plain": [
       "Date  2022-04-14 2022-04-13 2022-04-12 2022-04-11 2022-04-08 2022-04-07  \\\n",
       "1 Mo        0.37       0.26       0.21       0.22        0.2       0.21   \n",
       "2 Mo        0.57       0.52       0.52       0.54       0.49        0.5   \n",
       "3 Mo        0.79       0.75       0.74       0.77        0.7       0.68   \n",
       "6 Mo        1.25        1.2        1.2       1.23       1.19       1.15   \n",
       "1 Yr        1.84       1.78       1.77       1.85       1.81       1.78   \n",
       "2 Yr        2.47       2.37       2.39        2.5       2.53       2.47   \n",
       "3 Yr        2.67       2.57       2.58       2.73       2.73       2.66   \n",
       "5 Yr        2.79       2.66       2.66       2.79       2.76        2.7   \n",
       "7 Yr        2.84       2.71       2.73       2.84       2.79       2.73   \n",
       "10 Yr       2.83        2.7       2.72       2.79       2.72       2.66   \n",
       "20 Yr       3.09       2.97       2.99       3.02       2.94       2.87   \n",
       "30 Yr       2.92       2.81       2.82       2.84       2.76       2.69   \n",
       "\n",
       "Date  2022-04-06 2022-04-05 2022-04-04 2022-04-01  ... 2022-01-14 2022-01-13  \\\n",
       "1 Mo        0.21       0.18       0.18       0.15  ...       0.05       0.05   \n",
       "2 Mo        0.44       0.42       0.42       0.37  ...       0.05       0.05   \n",
       "3 Mo        0.67       0.65       0.66       0.53  ...       0.13       0.12   \n",
       "6 Mo        1.15       1.13       1.14       1.09  ...        0.3       0.28   \n",
       "1 Yr        1.79       1.77       1.72       1.72  ...       0.51       0.47   \n",
       "2 Yr         2.5       2.51       2.43       2.44  ...       0.99       0.91   \n",
       "3 Yr        2.67       2.69       2.61       2.61  ...       1.26       1.18   \n",
       "5 Yr         2.7       2.69       2.56       2.55  ...       1.55       1.47   \n",
       "7 Yr        2.69       2.65       2.52        2.5  ...       1.72       1.64   \n",
       "10 Yr       2.61       2.54       2.42       2.39  ...       1.78        1.7   \n",
       "20 Yr       2.81       2.74       2.64        2.6  ...       2.18        2.1   \n",
       "30 Yr       2.63       2.57       2.48       2.44  ...       2.12       2.05   \n",
       "\n",
       "Date  2022-01-12 2022-01-11 2022-01-10 2022-01-07 2022-01-06 2022-01-05  \\\n",
       "1 Mo        0.04       0.04       0.05       0.05       0.04       0.05   \n",
       "2 Mo        0.06       0.05       0.06       0.05       0.05       0.06   \n",
       "3 Mo        0.12       0.11       0.13        0.1        0.1       0.09   \n",
       "6 Mo        0.27       0.28       0.28       0.24       0.23       0.22   \n",
       "1 Yr        0.48       0.46       0.46       0.43       0.45       0.41   \n",
       "2 Yr        0.92        0.9       0.92       0.87       0.88       0.83   \n",
       "3 Yr        1.21       1.22       1.21       1.17       1.15        1.1   \n",
       "5 Yr         1.5       1.51       1.53        1.5       1.47       1.43   \n",
       "7 Yr        1.67       1.69       1.71       1.69       1.66       1.62   \n",
       "10 Yr       1.74       1.75       1.78       1.76       1.73       1.71   \n",
       "20 Yr       2.13       2.13       2.15       2.15       2.12       2.12   \n",
       "30 Yr       2.08       2.08       2.11       2.11       2.09       2.09   \n",
       "\n",
       "Date  2022-01-04 2022-01-03  \n",
       "1 Mo        0.06       0.05  \n",
       "2 Mo        0.05       0.06  \n",
       "3 Mo        0.08       0.08  \n",
       "6 Mo        0.22       0.22  \n",
       "1 Yr        0.38        0.4  \n",
       "2 Yr        0.77       0.78  \n",
       "3 Yr        1.02       1.04  \n",
       "5 Yr        1.37       1.37  \n",
       "7 Yr        1.57       1.55  \n",
       "10 Yr       1.66       1.63  \n",
       "20 Yr        2.1       2.05  \n",
       "30 Yr       2.07       2.01  \n",
       "\n",
       "[12 rows x 72 columns]"
      ]
     },
     "execution_count": 20,
     "metadata": {},
     "output_type": "execute_result"
    }
   ],
   "source": [
    "df2 = df.T\n",
    "df2.columns = df2.iloc[0]\n",
    "df2.drop(df2.index[0], inplace = True)\n",
    "df2"
   ]
  },
  {
   "cell_type": "code",
   "execution_count": 21,
   "metadata": {},
   "outputs": [
    {
     "data": {
      "text/plain": [
       "<matplotlib.legend.Legend at 0x1d532a09a90>"
      ]
     },
     "execution_count": 21,
     "metadata": {},
     "output_type": "execute_result"
    },
    {
     "data": {
      "image/png": "[encoded data removed]",
      "text/plain": [
       "<Figure size 1152x576 with 1 Axes>"
      ]
     },
     "metadata": {
      "needs_background": "light"
     },
     "output_type": "display_data"
    }
   ],
   "source": [
    "plt.figure(figsize=(16,8))\n",
    "plt.grid(True)\n",
    "\n",
    "plt.plot(df2.index, df2[[\"2022-01-03\"]].values, label = \"2022-01-03\", color = \"yellow\")\n",
    "plt.plot(df2.index, df2[[\"2022-02-01\"]].values, label = \"2022-02-01\", color = \"orange\")\n",
    "plt.plot(df2.index, df2[[\"2022-03-01\"]].values, label = \"2022-03-01\", color = \"green\")\n",
    "plt.plot(df2.index, df2[[\"2022-04-01\"]].values, label = \"2022-04-01, yield curve inversion\", color = \"blue\")\n",
    "plt.plot(df2.index, df2[[\"2022-04-14\"]].values, label = \"2022-04-14\", color = \"purple\")\n",
    "\n",
    "plt.xlabel(\"Duration\")\n",
    "plt.ylabel(\"Yield\")\n",
    "plt.legend()"
   ]
  },
  {
   "cell_type": "code",
   "execution_count": 23,
   "metadata": {},
   "outputs": [
    {
     "data": {
      "application/vnd.plotly.v1+json": {
       "config": {
        "plotlyServerURL": "https://plot.ly"
       },
       "data": [
        {
         "type": "surface",
         "x": [
          "Date",
          "1 Mo",
          "2 Mo",
          "3 Mo",
          "6 Mo",
          "1 Yr",
          "2 Yr",
          "3 Yr",
          "5 Yr",
          "7 Yr",
          "10 Yr",
          "20 Yr",
          "30 Yr"
         ],
         "y": [
          "2022-04-14T00:00:00",
          "2022-04-13T00:00:00",
          "2022-04-12T00:00:00",
          "2022-04-11T00:00:00",
          "2022-04-08T00:00:00",
          "2022-04-07T00:00:00",
          "2022-04-06T00:00:00",
          "2022-04-05T00:00:00",
          "2022-04-04T00:00:00",
          "2022-04-01T00:00:00",
          "2022-03-31T00:00:00",
          "2022-03-30T00:00:00",
          "2022-03-29T00:00:00",
          "2022-03-28T00:00:00",
          "2022-03-25T00:00:00",
          "2022-03-24T00:00:00",
          "2022-03-23T00:00:00",
          "2022-03-22T00:00:00",
          "2022-03-21T00:00:00",
          "2022-03-18T00:00:00",
          "2022-03-17T00:00:00",
          "2022-03-16T00:00:00",
          "2022-03-15T00:00:00",
          "2022-03-14T00:00:00",
          "2022-03-11T00:00:00",
          "2022-03-10T00:00:00",
          "2022-03-09T00:00:00",
          "2022-03-08T00:00:00",
          "2022-03-07T00:00:00",
          "2022-03-04T00:00:00",
          "2022-03-03T00:00:00",
          "2022-03-02T00:00:00",
          "2022-03-01T00:00:00",
          "2022-02-28T00:00:00",
          "2022-02-25T00:00:00",
          "2022-02-24T00:00:00",
          "2022-02-23T00:00:00",
          "2022-02-22T00:00:00",
          "2022-02-18T00:00:00",
          "2022-02-17T00:00:00",
          "2022-02-16T00:00:00",
          "2022-02-15T00:00:00",
          "2022-02-14T00:00:00",
          "2022-02-11T00:00:00",
          "2022-02-10T00:00:00",
          "2022-02-09T00:00:00",
          "2022-02-08T00:00:00",
          "2022-02-07T00:00:00",
          "2022-02-04T00:00:00",
          "2022-02-03T00:00:00",
          "2022-02-02T00:00:00",
          "2022-02-01T00:00:00",
          "2022-01-31T00:00:00",
          "2022-01-28T00:00:00",
          "2022-01-27T00:00:00",
          "2022-01-26T00:00:00",
          "2022-01-25T00:00:00",
          "2022-01-24T00:00:00",
          "2022-01-21T00:00:00",
          "2022-01-20T00:00:00",
          "2022-01-19T00:00:00",
          "2022-01-18T00:00:00",
          "2022-01-14T00:00:00",
          "2022-01-13T00:00:00",
          "2022-01-12T00:00:00",
          "2022-01-11T00:00:00",
          "2022-01-10T00:00:00",
          "2022-01-07T00:00:00",
          "2022-01-06T00:00:00",
          "2022-01-05T00:00:00",
          "2022-01-04T00:00:00",
          "2022-01-03T00:00:00"
         ],
         "z": [
          [
           "2022-04-14T00:00:00",
           0.37,
           0.57,
           0.79,
           1.25,
           1.84,
           2.47,
           2.67,
           2.79,
           2.84,
           2.83,
           3.09,
           2.92
          ],
          [
           "2022-04-13T00:00:00",
           0.26,
           0.52,
           0.75,
           1.2,
           1.78,
           2.37,
           2.57,
           2.66,
           2.71,
           2.7,
           2.97,
           2.81
          ],
          [
           "2022-04-12T00:00:00",
           0.21,
           0.52,
           0.74,
           1.2,
           1.77,
           2.39,
           2.58,
           2.66,
           2.73,
           2.72,
           2.99,
           2.82
          ],
          [
           "2022-04-11T00:00:00",
           0.22,
           0.54,
           0.77,
           1.23,
           1.85,
           2.5,
           2.73,
           2.79,
           2.84,
           2.79,
           3.02,
           2.84
          ],
          [
           "2022-04-08T00:00:00",
           0.2,
           0.49,
           0.7,
           1.19,
           1.81,
           2.53,
           2.73,
           2.76,
           2.79,
           2.72,
           2.94,
           2.76
          ],
          [
           "2022-04-07T00:00:00",
           0.21,
           0.5,
           0.68,
           1.15,
           1.78,
           2.47,
           2.66,
           2.7,
           2.73,
           2.66,
           2.87,
           2.69
          ],
          [
           "2022-04-06T00:00:00",
           0.21,
           0.44,
           0.67,
           1.15,
           1.79,
           2.5,
           2.67,
           2.7,
           2.69,
           2.61,
           2.81,
           2.63
          ],
          [
           "2022-04-05T00:00:00",
           0.18,
           0.42,
           0.65,
           1.13,
           1.77,
           2.51,
           2.69,
           2.69,
           2.65,
           2.54,
           2.74,
           2.57
          ],
          [
           "2022-04-04T00:00:00",
           0.18,
           0.42,
           0.66,
           1.14,
           1.72,
           2.43,
           2.61,
           2.56,
           2.52,
           2.42,
           2.64,
           2.48
          ],
          [
           "2022-04-01T00:00:00",
           0.15,
           0.37,
           0.53,
           1.09,
           1.72,
           2.44,
           2.61,
           2.55,
           2.5,
           2.39,
           2.6,
           2.44
          ],
          [
           "2022-03-31T00:00:00",
           0.17,
           0.35,
           0.52,
           1.06,
           1.63,
           2.28,
           2.45,
           2.42,
           2.4,
           2.32,
           2.59,
           2.44
          ],
          [
           "2022-03-30T00:00:00",
           0.16,
           0.33,
           0.55,
           1.04,
           1.64,
           2.31,
           2.49,
           2.44,
           2.43,
           2.35,
           2.63,
           2.48
          ],
          [
           "2022-03-29T00:00:00",
           0.18,
           0.34,
           0.55,
           1.06,
           1.67,
           2.35,
           2.54,
           2.49,
           2.5,
           2.41,
           2.68,
           2.53
          ],
          [
           "2022-03-28T00:00:00",
           0.19,
           0.36,
           0.59,
           1.08,
           1.69,
           2.35,
           2.55,
           2.54,
           2.55,
           2.46,
           2.72,
           2.57
          ],
          [
           "2022-03-25T00:00:00",
           0.17,
           0.32,
           0.55,
           1.01,
           1.67,
           2.3,
           2.51,
           2.55,
           2.56,
           2.48,
           2.74,
           2.6
          ],
          [
           "2022-03-24T00:00:00",
           0.16,
           0.31,
           0.52,
           0.96,
           1.55,
           2.13,
           2.35,
           2.37,
           2.39,
           2.34,
           2.63,
           2.51
          ],
          [
           "2022-03-23T00:00:00",
           0.15,
           0.27,
           0.5,
           0.93,
           1.52,
           2.13,
           2.32,
           2.34,
           2.37,
           2.32,
           2.65,
           2.52
          ],
          [
           "2022-03-22T00:00:00",
           0.2,
           0.3,
           0.51,
           0.96,
           1.59,
           2.18,
           2.38,
           2.39,
           2.42,
           2.38,
           2.71,
           2.6
          ],
          [
           "2022-03-21T00:00:00",
           0.22,
           0.33,
           0.54,
           0.95,
           1.4,
           2.14,
           2.34,
           2.33,
           2.36,
           2.32,
           2.67,
           2.55
          ],
          [
           "2022-03-18T00:00:00",
           0.19,
           0.28,
           0.42,
           0.83,
           1.29,
           1.97,
           2.15,
           2.14,
           2.17,
           2.14,
           2.53,
           2.42
          ],
          [
           "2022-03-17T00:00:00",
           0.2,
           0.3,
           0.4,
           0.81,
           1.3,
           1.94,
           2.14,
           2.17,
           2.22,
           2.2,
           2.6,
           2.5
          ],
          [
           "2022-03-16T00:00:00",
           0.24,
           0.3,
           0.44,
           0.86,
           1.35,
           1.95,
           2.14,
           2.18,
           2.22,
           2.19,
           2.56,
           2.46
          ],
          [
           "2022-03-15T00:00:00",
           0.22,
           0.31,
           0.46,
           0.86,
           1.28,
           1.85,
           2.04,
           2.1,
           2.16,
           2.15,
           2.57,
           2.49
          ],
          [
           "2022-03-14T00:00:00",
           0.23,
           0.32,
           0.45,
           0.86,
           1.28,
           1.87,
           2.04,
           2.1,
           2.16,
           2.14,
           2.56,
           2.47
          ],
          [
           "2022-03-11T00:00:00",
           0.17,
           0.28,
           0.4,
           0.78,
           1.22,
           1.75,
           1.91,
           1.96,
           2.01,
           2,
           2.45,
           2.36
          ],
          [
           "2022-03-10T00:00:00",
           0.19,
           0.28,
           0.39,
           0.75,
           1.19,
           1.72,
           1.88,
           1.92,
           1.98,
           1.98,
           2.45,
           2.38
          ],
          [
           "2022-03-09T00:00:00",
           0.18,
           0.26,
           0.38,
           0.75,
           1.15,
           1.68,
           1.83,
           1.87,
           1.92,
           1.94,
           2.38,
           2.29
          ],
          [
           "2022-03-08T00:00:00",
           0.16,
           0.24,
           0.36,
           0.72,
           1.12,
           1.63,
           1.78,
           1.8,
           1.85,
           1.86,
           2.34,
           2.24
          ],
          [
           "2022-03-07T00:00:00",
           0.17,
           0.23,
           0.38,
           0.75,
           1.07,
           1.55,
           1.68,
           1.71,
           1.77,
           1.78,
           2.29,
           2.19
          ],
          [
           "2022-03-04T00:00:00",
           0.15,
           0.21,
           0.34,
           0.69,
           1.05,
           1.5,
           1.62,
           1.65,
           1.7,
           1.74,
           2.23,
           2.16
          ],
          [
           "2022-03-03T00:00:00",
           0.19,
           0.25,
           0.38,
           0.69,
           1.08,
           1.53,
           1.69,
           1.74,
           1.82,
           1.86,
           2.32,
           2.24
          ],
          [
           "2022-03-02T00:00:00",
           0.13,
           0.24,
           0.34,
           0.68,
           1.06,
           1.5,
           1.67,
           1.74,
           1.83,
           1.86,
           2.32,
           2.24
          ],
          [
           "2022-03-01T00:00:00",
           0.11,
           0.21,
           0.32,
           0.6,
           0.91,
           1.31,
           1.47,
           1.56,
           1.67,
           1.72,
           2.19,
           2.11
          ],
          [
           "2022-02-28T00:00:00",
           0.06,
           0.2,
           0.35,
           0.69,
           1.01,
           1.44,
           1.62,
           1.71,
           1.81,
           1.83,
           2.25,
           2.17
          ],
          [
           "2022-02-25T00:00:00",
           0.03,
           0.2,
           0.33,
           0.71,
           1.13,
           1.55,
           1.76,
           1.86,
           1.96,
           1.97,
           2.37,
           2.29
          ],
          [
           "2022-02-24T00:00:00",
           0.05,
           0.18,
           0.32,
           0.65,
           1.08,
           1.54,
           1.73,
           1.84,
           1.94,
           1.96,
           2.36,
           2.28
          ],
          [
           "2022-02-23T00:00:00",
           0.02,
           0.2,
           0.34,
           0.74,
           1.16,
           1.58,
           1.78,
           1.89,
           1.98,
           1.99,
           2.36,
           2.29
          ],
          [
           "2022-02-22T00:00:00",
           0.03,
           0.2,
           0.37,
           0.73,
           1.17,
           1.56,
           1.74,
           1.85,
           1.93,
           1.94,
           2.31,
           2.24
          ],
          [
           "2022-02-18T00:00:00",
           0.03,
           0.19,
           0.35,
           0.65,
           1.03,
           1.47,
           1.68,
           1.82,
           1.9,
           1.92,
           2.3,
           2.24
          ],
          [
           "2022-02-17T00:00:00",
           0.06,
           0.23,
           0.36,
           0.65,
           1.05,
           1.49,
           1.7,
           1.85,
           1.94,
           1.97,
           2.35,
           2.31
          ],
          [
           "2022-02-16T00:00:00",
           0.03,
           0.17,
           0.38,
           0.67,
           1.09,
           1.52,
           1.75,
           1.9,
           2,
           2.03,
           2.39,
           2.34
          ],
          [
           "2022-02-15T00:00:00",
           0.02,
           0.19,
           0.4,
           0.72,
           1.11,
           1.58,
           1.8,
           1.94,
           2.03,
           2.05,
           2.42,
           2.37
          ],
          [
           "2022-02-14T00:00:00",
           0.03,
           0.25,
           0.43,
           0.76,
           1.13,
           1.58,
           1.8,
           1.9,
           1.98,
           1.98,
           2.35,
           2.29
          ],
          [
           "2022-02-11T00:00:00",
           0.03,
           0.22,
           0.36,
           0.71,
           1.07,
           1.5,
           1.71,
           1.84,
           1.92,
           1.92,
           2.3,
           2.24
          ],
          [
           "2022-02-10T00:00:00",
           0.05,
           0.31,
           0.4,
           0.74,
           1.14,
           1.61,
           1.82,
           1.96,
           2.03,
           2.03,
           2.37,
           2.3
          ],
          [
           "2022-02-09T00:00:00",
           0.04,
           0.15,
           0.26,
           0.57,
           0.91,
           1.36,
           1.61,
           1.82,
           1.92,
           1.94,
           2.31,
           2.25
          ],
          [
           "2022-02-08T00:00:00",
           0.03,
           0.14,
           0.25,
           0.59,
           0.91,
           1.35,
           1.59,
           1.81,
           1.93,
           1.96,
           2.31,
           2.25
          ],
          [
           "2022-02-07T00:00:00",
           0.03,
           0.14,
           0.27,
           0.58,
           0.88,
           1.3,
           1.54,
           1.76,
           1.88,
           1.92,
           2.28,
           2.22
          ],
          [
           "2022-02-04T00:00:00",
           0.05,
           0.12,
           0.23,
           0.56,
           0.89,
           1.31,
           1.55,
           1.78,
           1.9,
           1.93,
           2.29,
           2.23
          ],
          [
           "2022-02-03T00:00:00",
           0.03,
           0.15,
           0.2,
           0.48,
           0.78,
           1.19,
           1.42,
           1.66,
           1.78,
           1.82,
           2.2,
           2.14
          ],
          [
           "2022-02-02T00:00:00",
           0.04,
           0.1,
           0.19,
           0.45,
           0.76,
           1.16,
           1.38,
           1.6,
           1.74,
           1.78,
           2.17,
           2.11
          ],
          [
           "2022-02-01T00:00:00",
           0.04,
           0.1,
           0.19,
           0.48,
           0.78,
           1.18,
           1.39,
           1.63,
           1.76,
           1.81,
           2.19,
           2.12
          ],
          [
           "2022-01-31T00:00:00",
           0.03,
           0.13,
           0.22,
           0.49,
           0.78,
           1.18,
           1.39,
           1.62,
           1.75,
           1.79,
           2.17,
           2.11
          ],
          [
           "2022-01-28T00:00:00",
           0.04,
           0.1,
           0.19,
           0.43,
           0.75,
           1.15,
           1.38,
           1.61,
           1.74,
           1.78,
           2.14,
           2.07
          ],
          [
           "2022-01-27T00:00:00",
           0.04,
           0.14,
           0.2,
           0.43,
           0.75,
           1.18,
           1.43,
           1.66,
           1.78,
           1.81,
           2.17,
           2.09
          ],
          [
           "2022-01-26T00:00:00",
           0.06,
           0.11,
           0.19,
           0.4,
           0.7,
           1.13,
           1.39,
           1.66,
           1.81,
           1.85,
           2.22,
           2.16
          ],
          [
           "2022-01-25T00:00:00",
           0.05,
           0.09,
           0.19,
           0.39,
           0.65,
           1.02,
           1.28,
           1.56,
           1.73,
           1.78,
           2.18,
           2.12
          ],
          [
           "2022-01-24T00:00:00",
           0.05,
           0.09,
           0.19,
           0.39,
           0.58,
           0.99,
           1.25,
           1.53,
           1.69,
           1.75,
           2.15,
           2.1
          ],
          [
           "2022-01-21T00:00:00",
           0.05,
           0.08,
           0.17,
           0.35,
           0.58,
           1.01,
           1.28,
           1.54,
           1.7,
           1.75,
           2.13,
           2.07
          ],
          [
           "2022-01-20T00:00:00",
           0.05,
           0.09,
           0.17,
           0.36,
           0.6,
           1.08,
           1.34,
           1.62,
           1.77,
           1.83,
           2.19,
           2.14
          ],
          [
           "2022-01-19T00:00:00",
           0.05,
           0.06,
           0.17,
           0.36,
           0.57,
           1.04,
           1.33,
           1.62,
           1.78,
           1.83,
           2.2,
           2.14
          ],
          [
           "2022-01-18T00:00:00",
           0.05,
           0.06,
           0.16,
           0.37,
           0.58,
           1.06,
           1.35,
           1.65,
           1.82,
           1.87,
           2.24,
           2.18
          ],
          [
           "2022-01-14T00:00:00",
           0.05,
           0.05,
           0.13,
           0.3,
           0.51,
           0.99,
           1.26,
           1.55,
           1.72,
           1.78,
           2.18,
           2.12
          ],
          [
           "2022-01-13T00:00:00",
           0.05,
           0.05,
           0.12,
           0.28,
           0.47,
           0.91,
           1.18,
           1.47,
           1.64,
           1.7,
           2.1,
           2.05
          ],
          [
           "2022-01-12T00:00:00",
           0.04,
           0.06,
           0.12,
           0.27,
           0.48,
           0.92,
           1.21,
           1.5,
           1.67,
           1.74,
           2.13,
           2.08
          ],
          [
           "2022-01-11T00:00:00",
           0.04,
           0.05,
           0.11,
           0.28,
           0.46,
           0.9,
           1.22,
           1.51,
           1.69,
           1.75,
           2.13,
           2.08
          ],
          [
           "2022-01-10T00:00:00",
           0.05,
           0.06,
           0.13,
           0.28,
           0.46,
           0.92,
           1.21,
           1.53,
           1.71,
           1.78,
           2.15,
           2.11
          ],
          [
           "2022-01-07T00:00:00",
           0.05,
           0.05,
           0.1,
           0.24,
           0.43,
           0.87,
           1.17,
           1.5,
           1.69,
           1.76,
           2.15,
           2.11
          ],
          [
           "2022-01-06T00:00:00",
           0.04,
           0.05,
           0.1,
           0.23,
           0.45,
           0.88,
           1.15,
           1.47,
           1.66,
           1.73,
           2.12,
           2.09
          ],
          [
           "2022-01-05T00:00:00",
           0.05,
           0.06,
           0.09,
           0.22,
           0.41,
           0.83,
           1.1,
           1.43,
           1.62,
           1.71,
           2.12,
           2.09
          ],
          [
           "2022-01-04T00:00:00",
           0.06,
           0.05,
           0.08,
           0.22,
           0.38,
           0.77,
           1.02,
           1.37,
           1.57,
           1.66,
           2.1,
           2.07
          ],
          [
           "2022-01-03T00:00:00",
           0.05,
           0.06,
           0.08,
           0.22,
           0.4,
           0.78,
           1.04,
           1.37,
           1.55,
           1.63,
           2.05,
           2.01
          ]
         ]
        }
       ],
       "layout": {
        "height": 1000,
        "scene": {
         "xaxis": {
          "title": {
           "text": "Duration"
          }
         },
         "yaxis": {
          "title": {
           "text": "Date"
          }
         },
         "zaxis": {
          "title": {
           "text": "Yield"
          }
         }
        },
        "template": {
         "data": {
          "bar": [
           {
            "error_x": {
             "color": "#2a3f5f"
            },
            "error_y": {
             "color": "#2a3f5f"
            },
            "marker": {
             "line": {
              "color": "#E5ECF6",
              "width": 0.5
             }
            },
            "type": "bar"
           }
          ],
          "barpolar": [
           {
            "marker": {
             "line": {
              "color": "#E5ECF6",
              "width": 0.5
             }
            },
            "type": "barpolar"
           }
          ],
          "carpet": [
           {
            "aaxis": {
             "endlinecolor": "#2a3f5f",
             "gridcolor": "white",
             "linecolor": "white",
             "minorgridcolor": "white",
             "startlinecolor": "#2a3f5f"
            },
            "baxis": {
             "endlinecolor": "#2a3f5f",
             "gridcolor": "white",
             "linecolor": "white",
             "minorgridcolor": "white",
             "startlinecolor": "#2a3f5f"
            },
            "type": "carpet"
           }
          ],
          "choropleth": [
           {
            "colorbar": {
             "outlinewidth": 0,
             "ticks": ""
            },
            "type": "choropleth"
           }
          ],
          "contour": [
           {
            "colorbar": {
             "outlinewidth": 0,
             "ticks": ""
            },
            "colorscale": [
             [
              0,
              "#0d0887"
             ],
             [
              0.1111111111111111,
              "#46039f"
             ],
             [
              0.2222222222222222,
              "#7201a8"
             ],
             [
              0.3333333333333333,
              "#9c179e"
             ],
             [
              0.4444444444444444,
              "#bd3786"
             ],
             [
              0.5555555555555556,
              "#d8576b"
             ],
             [
              0.6666666666666666,
              "#ed7953"
             ],
             [
              0.7777777777777778,
              "#fb9f3a"
             ],
             [
              0.8888888888888888,
              "#fdca26"
             ],
             [
              1,
              "#f0f921"
             ]
            ],
            "type": "contour"
           }
          ],
          "contourcarpet": [
           {
            "colorbar": {
             "outlinewidth": 0,
             "ticks": ""
            },
            "type": "contourcarpet"
           }
          ],
          "heatmap": [
           {
            "colorbar": {
             "outlinewidth": 0,
             "ticks": ""
            },
            "colorscale": [
             [
              0,
              "#0d0887"
             ],
             [
              0.1111111111111111,
              "#46039f"
             ],
             [
              0.2222222222222222,
              "#7201a8"
             ],
             [
              0.3333333333333333,
              "#9c179e"
             ],
             [
              0.4444444444444444,
              "#bd3786"
             ],
             [
              0.5555555555555556,
              "#d8576b"
             ],
             [
              0.6666666666666666,
              "#ed7953"
             ],
             [
              0.7777777777777778,
              "#fb9f3a"
             ],
             [
              0.8888888888888888,
              "#fdca26"
             ],
             [
              1,
              "#f0f921"
             ]
            ],
            "type": "heatmap"
           }
          ],
          "heatmapgl": [
           {
            "colorbar": {
             "outlinewidth": 0,
             "ticks": ""
            },
            "colorscale": [
             [
              0,
              "#0d0887"
             ],
             [
              0.1111111111111111,
              "#46039f"
             ],
             [
              0.2222222222222222,
              "#7201a8"
             ],
             [
              0.3333333333333333,
              "#9c179e"
             ],
             [
              0.4444444444444444,
              "#bd3786"
             ],
             [
              0.5555555555555556,
              "#d8576b"
             ],
             [
              0.6666666666666666,
              "#ed7953"
             ],
             [
              0.7777777777777778,
              "#fb9f3a"
             ],
             [
              0.8888888888888888,
              "#fdca26"
             ],
             [
              1,
              "#f0f921"
             ]
            ],
            "type": "heatmapgl"
           }
          ],
          "histogram": [
           {
            "marker": {
             "colorbar": {
              "outlinewidth": 0,
              "ticks": ""
             }
            },
            "type": "histogram"
           }
          ],
          "histogram2d": [
           {
            "colorbar": {
             "outlinewidth": 0,
             "ticks": ""
            },
            "colorscale": [
             [
              0,
              "#0d0887"
             ],
             [
              0.1111111111111111,
              "#46039f"
             ],
             [
              0.2222222222222222,
              "#7201a8"
             ],
             [
              0.3333333333333333,
              "#9c179e"
             ],
             [
              0.4444444444444444,
              "#bd3786"
             ],
             [
              0.5555555555555556,
              "#d8576b"
             ],
             [
              0.6666666666666666,
              "#ed7953"
             ],
             [
              0.7777777777777778,
              "#fb9f3a"
             ],
             [
              0.8888888888888888,
              "#fdca26"
             ],
             [
              1,
              "#f0f921"
             ]
            ],
            "type": "histogram2d"
           }
          ],
          "histogram2dcontour": [
           {
            "colorbar": {
             "outlinewidth": 0,
             "ticks": ""
            },
            "colorscale": [
             [
              0,
              "#0d0887"
             ],
             [
              0.1111111111111111,
              "#46039f"
             ],
             [
              0.2222222222222222,
              "#7201a8"
             ],
             [
              0.3333333333333333,
              "#9c179e"
             ],
             [
              0.4444444444444444,
              "#bd3786"
             ],
             [
              0.5555555555555556,
              "#d8576b"
             ],
             [
              0.6666666666666666,
              "#ed7953"
             ],
             [
              0.7777777777777778,
              "#fb9f3a"
             ],
             [
              0.8888888888888888,
              "#fdca26"
             ],
             [
              1,
              "#f0f921"
             ]
            ],
            "type": "histogram2dcontour"
           }
          ],
          "mesh3d": [
           {
            "colorbar": {
             "outlinewidth": 0,
             "ticks": ""
            },
            "type": "mesh3d"
           }
          ],
          "parcoords": [
           {
            "line": {
             "colorbar": {
              "outlinewidth": 0,
              "ticks": ""
             }
            },
            "type": "parcoords"
           }
          ],
          "pie": [
           {
            "automargin": true,
            "type": "pie"
           }
          ],
          "scatter": [
           {
            "marker": {
             "colorbar": {
              "outlinewidth": 0,
              "ticks": ""
             }
            },
            "type": "scatter"
           }
          ],
          "scatter3d": [
           {
            "line": {
             "colorbar": {
              "outlinewidth": 0,
              "ticks": ""
             }
            },
            "marker": {
             "colorbar": {
              "outlinewidth": 0,
              "ticks": ""
             }
            },
            "type": "scatter3d"
           }
          ],
          "scattercarpet": [
           {
            "marker": {
             "colorbar": {
              "outlinewidth": 0,
              "ticks": ""
             }
            },
            "type": "scattercarpet"
           }
          ],
          "scattergeo": [
           {
            "marker": {
             "colorbar": {
              "outlinewidth": 0,
              "ticks": ""
             }
            },
            "type": "scattergeo"
           }
          ],
          "scattergl": [
           {
            "marker": {
             "colorbar": {
              "outlinewidth": 0,
              "ticks": ""
             }
            },
            "type": "scattergl"
           }
          ],
          "scattermapbox": [
           {
            "marker": {
             "colorbar": {
              "outlinewidth": 0,
              "ticks": ""
             }
            },
            "type": "scattermapbox"
           }
          ],
          "scatterpolar": [
           {
            "marker": {
             "colorbar": {
              "outlinewidth": 0,
              "ticks": ""
             }
            },
            "type": "scatterpolar"
           }
          ],
          "scatterpolargl": [
           {
            "marker": {
             "colorbar": {
              "outlinewidth": 0,
              "ticks": ""
             }
            },
            "type": "scatterpolargl"
           }
          ],
          "scatterternary": [
           {
            "marker": {
             "colorbar": {
              "outlinewidth": 0,
              "ticks": ""
             }
            },
            "type": "scatterternary"
           }
          ],
          "surface": [
           {
            "colorbar": {
             "outlinewidth": 0,
             "ticks": ""
            },
            "colorscale": [
             [
              0,
              "#0d0887"
             ],
             [
              0.1111111111111111,
              "#46039f"
             ],
             [
              0.2222222222222222,
              "#7201a8"
             ],
             [
              0.3333333333333333,
              "#9c179e"
             ],
             [
              0.4444444444444444,
              "#bd3786"
             ],
             [
              0.5555555555555556,
              "#d8576b"
             ],
             [
              0.6666666666666666,
              "#ed7953"
             ],
             [
              0.7777777777777778,
              "#fb9f3a"
             ],
             [
              0.8888888888888888,
              "#fdca26"
             ],
             [
              1,
              "#f0f921"
             ]
            ],
            "type": "surface"
           }
          ],
          "table": [
           {
            "cells": {
             "fill": {
              "color": "#EBF0F8"
             },
             "line": {
              "color": "white"
             }
            },
            "header": {
             "fill": {
              "color": "#C8D4E3"
             },
             "line": {
              "color": "white"
             }
            },
            "type": "table"
           }
          ]
         },
         "layout": {
          "annotationdefaults": {
           "arrowcolor": "#2a3f5f",
           "arrowhead": 0,
           "arrowwidth": 1
          },
          "coloraxis": {
           "colorbar": {
            "outlinewidth": 0,
            "ticks": ""
           }
          },
          "colorscale": {
           "diverging": [
            [
             0,
             "#8e0152"
            ],
            [
             0.1,
             "#c51b7d"
            ],
            [
             0.2,
             "#de77ae"
            ],
            [
             0.3,
             "#f1b6da"
            ],
            [
             0.4,
             "#fde0ef"
            ],
            [
             0.5,
             "#f7f7f7"
            ],
            [
             0.6,
             "#e6f5d0"
            ],
            [
             0.7,
             "#b8e186"
            ],
            [
             0.8,
             "#7fbc41"
            ],
            [
             0.9,
             "#4d9221"
            ],
            [
             1,
             "#276419"
            ]
           ],
           "sequential": [
            [
             0,
             "#0d0887"
            ],
            [
             0.1111111111111111,
             "#46039f"
            ],
            [
             0.2222222222222222,
             "#7201a8"
            ],
            [
             0.3333333333333333,
             "#9c179e"
            ],
            [
             0.4444444444444444,
             "#bd3786"
            ],
            [
             0.5555555555555556,
             "#d8576b"
            ],
            [
             0.6666666666666666,
             "#ed7953"
            ],
            [
             0.7777777777777778,
             "#fb9f3a"
            ],
            [
             0.8888888888888888,
             "#fdca26"
            ],
            [
             1,
             "#f0f921"
            ]
           ],
           "sequentialminus": [
            [
             0,
             "#0d0887"
            ],
            [
             0.1111111111111111,
             "#46039f"
            ],
            [
             0.2222222222222222,
             "#7201a8"
            ],
            [
             0.3333333333333333,
             "#9c179e"
            ],
            [
             0.4444444444444444,
             "#bd3786"
            ],
            [
             0.5555555555555556,
             "#d8576b"
            ],
            [
             0.6666666666666666,
             "#ed7953"
            ],
            [
             0.7777777777777778,
             "#fb9f3a"
            ],
            [
             0.8888888888888888,
             "#fdca26"
            ],
            [
             1,
             "#f0f921"
            ]
           ]
          },
          "colorway": [
           "#636efa",
           "#EF553B",
           "#00cc96",
           "#ab63fa",
           "#FFA15A",
           "#19d3f3",
           "#FF6692",
           "#B6E880",
           "#FF97FF",
           "#FECB52"
          ],
          "font": {
           "color": "#2a3f5f"
          },
          "geo": {
           "bgcolor": "white",
           "lakecolor": "white",
           "landcolor": "#E5ECF6",
           "showlakes": true,
           "showland": true,
           "subunitcolor": "white"
          },
          "hoverlabel": {
           "align": "left"
          },
          "hovermode": "closest",
          "mapbox": {
           "style": "light"
          },
          "paper_bgcolor": "white",
          "plot_bgcolor": "#E5ECF6",
          "polar": {
           "angularaxis": {
            "gridcolor": "white",
            "linecolor": "white",
            "ticks": ""
           },
           "bgcolor": "#E5ECF6",
           "radialaxis": {
            "gridcolor": "white",
            "linecolor": "white",
            "ticks": ""
           }
          },
          "scene": {
           "xaxis": {
            "backgroundcolor": "#E5ECF6",
            "gridcolor": "white",
            "gridwidth": 2,
            "linecolor": "white",
            "showbackground": true,
            "ticks": "",
            "zerolinecolor": "white"
           },
           "yaxis": {
            "backgroundcolor": "#E5ECF6",
            "gridcolor": "white",
            "gridwidth": 2,
            "linecolor": "white",
            "showbackground": true,
            "ticks": "",
            "zerolinecolor": "white"
           },
           "zaxis": {
            "backgroundcolor": "#E5ECF6",
            "gridcolor": "white",
            "gridwidth": 2,
            "linecolor": "white",
            "showbackground": true,
            "ticks": "",
            "zerolinecolor": "white"
           }
          },
          "shapedefaults": {
           "line": {
            "color": "#2a3f5f"
           }
          },
          "ternary": {
           "aaxis": {
            "gridcolor": "white",
            "linecolor": "white",
            "ticks": ""
           },
           "baxis": {
            "gridcolor": "white",
            "linecolor": "white",
            "ticks": ""
           },
           "bgcolor": "#E5ECF6",
           "caxis": {
            "gridcolor": "white",
            "linecolor": "white",
            "ticks": ""
           }
          },
          "title": {
           "x": 0.05
          },
          "xaxis": {
           "automargin": true,
           "gridcolor": "white",
           "linecolor": "white",
           "ticks": "",
           "title": {
            "standoff": 15
           },
           "zerolinecolor": "white",
           "zerolinewidth": 2
          },
          "yaxis": {
           "automargin": true,
           "gridcolor": "white",
           "linecolor": "white",
           "ticks": "",
           "title": {
            "standoff": 15
           },
           "zerolinecolor": "white",
           "zerolinewidth": 2
          }
         }
        },
        "title": {
         "text": "Daily Treasury Par Yield Curve Rates 01/03/2022 - 04/14/2022"
        },
        "width": 1000
       }
      },
      "text/html": [
       "<div>                            <div id=\"91564a93-8d6b-4f94-b021-6c2b130aa817\" class=\"plotly-graph-div\" style=\"height:1000px; width:1000px;\"></div>            <script type=\"text/javascript\">                require([\"plotly\"], function(Plotly) {                    window.PLOTLYENV=window.PLOTLYENV || {};                                    if (document.getElementById(\"91564a93-8d6b-4f94-b021-6c2b130aa817\")) {                    Plotly.newPlot(                        \"91564a93-8d6b-4f94-b021-6c2b130aa817\",                        [{\"type\": \"surface\", \"x\": [\"Date\", \"1 Mo\", \"2 Mo\", \"3 Mo\", \"6 Mo\", \"1 Yr\", \"2 Yr\", \"3 Yr\", \"5 Yr\", \"7 Yr\", \"10 Yr\", \"20 Yr\", \"30 Yr\"], \"y\": [\"2022-04-14T00:00:00\", \"2022-04-13T00:00:00\", \"2022-04-12T00:00:00\", \"2022-04-11T00:00:00\", \"2022-04-08T00:00:00\", \"2022-04-07T00:00:00\", \"2022-04-06T00:00:00\", \"2022-04-05T00:00:00\", \"2022-04-04T00:00:00\", \"2022-04-01T00:00:00\", \"2022-03-31T00:00:00\", \"2022-03-30T00:00:00\", \"2022-03-29T00:00:00\", \"2022-03-28T00:00:00\", \"2022-03-25T00:00:00\", \"2022-03-24T00:00:00\", \"2022-03-23T00:00:00\", \"2022-03-22T00:00:00\", \"2022-03-21T00:00:00\", \"2022-03-18T00:00:00\", \"2022-03-17T00:00:00\", \"2022-03-16T00:00:00\", \"2022-03-15T00:00:00\", \"2022-03-14T00:00:00\", \"2022-03-11T00:00:00\", \"2022-03-10T00:00:00\", \"2022-03-09T00:00:00\", \"2022-03-08T00:00:00\", \"2022-03-07T00:00:00\", \"2022-03-04T00:00:00\", \"2022-03-03T00:00:00\", \"2022-03-02T00:00:00\", \"2022-03-01T00:00:00\", \"2022-02-28T00:00:00\", \"2022-02-25T00:00:00\", \"2022-02-24T00:00:00\", \"2022-02-23T00:00:00\", \"2022-02-22T00:00:00\", \"2022-02-18T00:00:00\", \"2022-02-17T00:00:00\", \"2022-02-16T00:00:00\", \"2022-02-15T00:00:00\", \"2022-02-14T00:00:00\", \"2022-02-11T00:00:00\", \"2022-02-10T00:00:00\", \"2022-02-09T00:00:00\", \"2022-02-08T00:00:00\", \"2022-02-07T00:00:00\", \"2022-02-04T00:00:00\", \"2022-02-03T00:00:00\", \"2022-02-02T00:00:00\", \"2022-02-01T00:00:00\", \"2022-01-31T00:00:00\", \"2022-01-28T00:00:00\", \"2022-01-27T00:00:00\", \"2022-01-26T00:00:00\", \"2022-01-25T00:00:00\", \"2022-01-24T00:00:00\", \"2022-01-21T00:00:00\", \"2022-01-20T00:00:00\", \"2022-01-19T00:00:00\", \"2022-01-18T00:00:00\", \"2022-01-14T00:00:00\", \"2022-01-13T00:00:00\", \"2022-01-12T00:00:00\", \"2022-01-11T00:00:00\", \"2022-01-10T00:00:00\", \"2022-01-07T00:00:00\", \"2022-01-06T00:00:00\", \"2022-01-05T00:00:00\", \"2022-01-04T00:00:00\", \"2022-01-03T00:00:00\"], \"z\": [[\"2022-04-14T00:00:00\", 0.37, 0.57, 0.79, 1.25, 1.84, 2.47, 2.67, 2.79, 2.84, 2.83, 3.09, 2.92], [\"2022-04-13T00:00:00\", 0.26, 0.52, 0.75, 1.2, 1.78, 2.37, 2.57, 2.66, 2.71, 2.7, 2.97, 2.81], [\"2022-04-12T00:00:00\", 0.21, 0.52, 0.74, 1.2, 1.77, 2.39, 2.58, 2.66, 2.73, 2.72, 2.99, 2.82], [\"2022-04-11T00:00:00\", 0.22, 0.54, 0.77, 1.23, 1.85, 2.5, 2.73, 2.79, 2.84, 2.79, 3.02, 2.84], [\"2022-04-08T00:00:00\", 0.2, 0.49, 0.7, 1.19, 1.81, 2.53, 2.73, 2.76, 2.79, 2.72, 2.94, 2.76], [\"2022-04-07T00:00:00\", 0.21, 0.5, 0.68, 1.15, 1.78, 2.47, 2.66, 2.7, 2.73, 2.66, 2.87, 2.69], [\"2022-04-06T00:00:00\", 0.21, 0.44, 0.67, 1.15, 1.79, 2.5, 2.67, 2.7, 2.69, 2.61, 2.81, 2.63], [\"2022-04-05T00:00:00\", 0.18, 0.42, 0.65, 1.13, 1.77, 2.51, 2.69, 2.69, 2.65, 2.54, 2.74, 2.57], [\"2022-04-04T00:00:00\", 0.18, 0.42, 0.66, 1.14, 1.72, 2.43, 2.61, 2.56, 2.52, 2.42, 2.64, 2.48], [\"2022-04-01T00:00:00\", 0.15, 0.37, 0.53, 1.09, 1.72, 2.44, 2.61, 2.55, 2.5, 2.39, 2.6, 2.44], [\"2022-03-31T00:00:00\", 0.17, 0.35, 0.52, 1.06, 1.63, 2.28, 2.45, 2.42, 2.4, 2.32, 2.59, 2.44], [\"2022-03-30T00:00:00\", 0.16, 0.33, 0.55, 1.04, 1.64, 2.31, 2.49, 2.44, 2.43, 2.35, 2.63, 2.48], [\"2022-03-29T00:00:00\", 0.18, 0.34, 0.55, 1.06, 1.67, 2.35, 2.54, 2.49, 2.5, 2.41, 2.68, 2.53], [\"2022-03-28T00:00:00\", 0.19, 0.36, 0.59, 1.08, 1.69, 2.35, 2.55, 2.54, 2.55, 2.46, 2.72, 2.57], [\"2022-03-25T00:00:00\", 0.17, 0.32, 0.55, 1.01, 1.67, 2.3, 2.51, 2.55, 2.56, 2.48, 2.74, 2.6], [\"2022-03-24T00:00:00\", 0.16, 0.31, 0.52, 0.96, 1.55, 2.13, 2.35, 2.37, 2.39, 2.34, 2.63, 2.51], [\"2022-03-23T00:00:00\", 0.15, 0.27, 0.5, 0.93, 1.52, 2.13, 2.32, 2.34, 2.37, 2.32, 2.65, 2.52], [\"2022-03-22T00:00:00\", 0.2, 0.3, 0.51, 0.96, 1.59, 2.18, 2.38, 2.39, 2.42, 2.38, 2.71, 2.6], [\"2022-03-21T00:00:00\", 0.22, 0.33, 0.54, 0.95, 1.4, 2.14, 2.34, 2.33, 2.36, 2.32, 2.67, 2.55], [\"2022-03-18T00:00:00\", 0.19, 0.28, 0.42, 0.83, 1.29, 1.97, 2.15, 2.14, 2.17, 2.14, 2.53, 2.42], [\"2022-03-17T00:00:00\", 0.2, 0.3, 0.4, 0.81, 1.3, 1.94, 2.14, 2.17, 2.22, 2.2, 2.6, 2.5], [\"2022-03-16T00:00:00\", 0.24, 0.3, 0.44, 0.86, 1.35, 1.95, 2.14, 2.18, 2.22, 2.19, 2.56, 2.46], [\"2022-03-15T00:00:00\", 0.22, 0.31, 0.46, 0.86, 1.28, 1.85, 2.04, 2.1, 2.16, 2.15, 2.57, 2.49], [\"2022-03-14T00:00:00\", 0.23, 0.32, 0.45, 0.86, 1.28, 1.87, 2.04, 2.1, 2.16, 2.14, 2.56, 2.47], [\"2022-03-11T00:00:00\", 0.17, 0.28, 0.4, 0.78, 1.22, 1.75, 1.91, 1.96, 2.01, 2.0, 2.45, 2.36], [\"2022-03-10T00:00:00\", 0.19, 0.28, 0.39, 0.75, 1.19, 1.72, 1.88, 1.92, 1.98, 1.98, 2.45, 2.38], [\"2022-03-09T00:00:00\", 0.18, 0.26, 0.38, 0.75, 1.15, 1.68, 1.83, 1.87, 1.92, 1.94, 2.38, 2.29], [\"2022-03-08T00:00:00\", 0.16, 0.24, 0.36, 0.72, 1.12, 1.63, 1.78, 1.8, 1.85, 1.86, 2.34, 2.24], [\"2022-03-07T00:00:00\", 0.17, 0.23, 0.38, 0.75, 1.07, 1.55, 1.68, 1.71, 1.77, 1.78, 2.29, 2.19], [\"2022-03-04T00:00:00\", 0.15, 0.21, 0.34, 0.69, 1.05, 1.5, 1.62, 1.65, 1.7, 1.74, 2.23, 2.16], [\"2022-03-03T00:00:00\", 0.19, 0.25, 0.38, 0.69, 1.08, 1.53, 1.69, 1.74, 1.82, 1.86, 2.32, 2.24], [\"2022-03-02T00:00:00\", 0.13, 0.24, 0.34, 0.68, 1.06, 1.5, 1.67, 1.74, 1.83, 1.86, 2.32, 2.24], [\"2022-03-01T00:00:00\", 0.11, 0.21, 0.32, 0.6, 0.91, 1.31, 1.47, 1.56, 1.67, 1.72, 2.19, 2.11], [\"2022-02-28T00:00:00\", 0.06, 0.2, 0.35, 0.69, 1.01, 1.44, 1.62, 1.71, 1.81, 1.83, 2.25, 2.17], [\"2022-02-25T00:00:00\", 0.03, 0.2, 0.33, 0.71, 1.13, 1.55, 1.76, 1.86, 1.96, 1.97, 2.37, 2.29], [\"2022-02-24T00:00:00\", 0.05, 0.18, 0.32, 0.65, 1.08, 1.54, 1.73, 1.84, 1.94, 1.96, 2.36, 2.28], [\"2022-02-23T00:00:00\", 0.02, 0.2, 0.34, 0.74, 1.16, 1.58, 1.78, 1.89, 1.98, 1.99, 2.36, 2.29], [\"2022-02-22T00:00:00\", 0.03, 0.2, 0.37, 0.73, 1.17, 1.56, 1.74, 1.85, 1.93, 1.94, 2.31, 2.24], [\"2022-02-18T00:00:00\", 0.03, 0.19, 0.35, 0.65, 1.03, 1.47, 1.68, 1.82, 1.9, 1.92, 2.3, 2.24], [\"2022-02-17T00:00:00\", 0.06, 0.23, 0.36, 0.65, 1.05, 1.49, 1.7, 1.85, 1.94, 1.97, 2.35, 2.31], [\"2022-02-16T00:00:00\", 0.03, 0.17, 0.38, 0.67, 1.09, 1.52, 1.75, 1.9, 2.0, 2.03, 2.39, 2.34], [\"2022-02-15T00:00:00\", 0.02, 0.19, 0.4, 0.72, 1.11, 1.58, 1.8, 1.94, 2.03, 2.05, 2.42, 2.37], [\"2022-02-14T00:00:00\", 0.03, 0.25, 0.43, 0.76, 1.13, 1.58, 1.8, 1.9, 1.98, 1.98, 2.35, 2.29], [\"2022-02-11T00:00:00\", 0.03, 0.22, 0.36, 0.71, 1.07, 1.5, 1.71, 1.84, 1.92, 1.92, 2.3, 2.24], [\"2022-02-10T00:00:00\", 0.05, 0.31, 0.4, 0.74, 1.14, 1.61, 1.82, 1.96, 2.03, 2.03, 2.37, 2.3], [\"2022-02-09T00:00:00\", 0.04, 0.15, 0.26, 0.57, 0.91, 1.36, 1.61, 1.82, 1.92, 1.94, 2.31, 2.25], [\"2022-02-08T00:00:00\", 0.03, 0.14, 0.25, 0.59, 0.91, 1.35, 1.59, 1.81, 1.93, 1.96, 2.31, 2.25], [\"2022-02-07T00:00:00\", 0.03, 0.14, 0.27, 0.58, 0.88, 1.3, 1.54, 1.76, 1.88, 1.92, 2.28, 2.22], [\"2022-02-04T00:00:00\", 0.05, 0.12, 0.23, 0.56, 0.89, 1.31, 1.55, 1.78, 1.9, 1.93, 2.29, 2.23], [\"2022-02-03T00:00:00\", 0.03, 0.15, 0.2, 0.48, 0.78, 1.19, 1.42, 1.66, 1.78, 1.82, 2.2, 2.14], [\"2022-02-02T00:00:00\", 0.04, 0.1, 0.19, 0.45, 0.76, 1.16, 1.38, 1.6, 1.74, 1.78, 2.17, 2.11], [\"2022-02-01T00:00:00\", 0.04, 0.1, 0.19, 0.48, 0.78, 1.18, 1.39, 1.63, 1.76, 1.81, 2.19, 2.12], [\"2022-01-31T00:00:00\", 0.03, 0.13, 0.22, 0.49, 0.78, 1.18, 1.39, 1.62, 1.75, 1.79, 2.17, 2.11], [\"2022-01-28T00:00:00\", 0.04, 0.1, 0.19, 0.43, 0.75, 1.15, 1.38, 1.61, 1.74, 1.78, 2.14, 2.07], [\"2022-01-27T00:00:00\", 0.04, 0.14, 0.2, 0.43, 0.75, 1.18, 1.43, 1.66, 1.78, 1.81, 2.17, 2.09], [\"2022-01-26T00:00:00\", 0.06, 0.11, 0.19, 0.4, 0.7, 1.13, 1.39, 1.66, 1.81, 1.85, 2.22, 2.16], [\"2022-01-25T00:00:00\", 0.05, 0.09, 0.19, 0.39, 0.65, 1.02, 1.28, 1.56, 1.73, 1.78, 2.18, 2.12], [\"2022-01-24T00:00:00\", 0.05, 0.09, 0.19, 0.39, 0.58, 0.99, 1.25, 1.53, 1.69, 1.75, 2.15, 2.1], [\"2022-01-21T00:00:00\", 0.05, 0.08, 0.17, 0.35, 0.58, 1.01, 1.28, 1.54, 1.7, 1.75, 2.13, 2.07], [\"2022-01-20T00:00:00\", 0.05, 0.09, 0.17, 0.36, 0.6, 1.08, 1.34, 1.62, 1.77, 1.83, 2.19, 2.14], [\"2022-01-19T00:00:00\", 0.05, 0.06, 0.17, 0.36, 0.57, 1.04, 1.33, 1.62, 1.78, 1.83, 2.2, 2.14], [\"2022-01-18T00:00:00\", 0.05, 0.06, 0.16, 0.37, 0.58, 1.06, 1.35, 1.65, 1.82, 1.87, 2.24, 2.18], [\"2022-01-14T00:00:00\", 0.05, 0.05, 0.13, 0.3, 0.51, 0.99, 1.26, 1.55, 1.72, 1.78, 2.18, 2.12], [\"2022-01-13T00:00:00\", 0.05, 0.05, 0.12, 0.28, 0.47, 0.91, 1.18, 1.47, 1.64, 1.7, 2.1, 2.05], [\"2022-01-12T00:00:00\", 0.04, 0.06, 0.12, 0.27, 0.48, 0.92, 1.21, 1.5, 1.67, 1.74, 2.13, 2.08], [\"2022-01-11T00:00:00\", 0.04, 0.05, 0.11, 0.28, 0.46, 0.9, 1.22, 1.51, 1.69, 1.75, 2.13, 2.08], [\"2022-01-10T00:00:00\", 0.05, 0.06, 0.13, 0.28, 0.46, 0.92, 1.21, 1.53, 1.71, 1.78, 2.15, 2.11], [\"2022-01-07T00:00:00\", 0.05, 0.05, 0.1, 0.24, 0.43, 0.87, 1.17, 1.5, 1.69, 1.76, 2.15, 2.11], [\"2022-01-06T00:00:00\", 0.04, 0.05, 0.1, 0.23, 0.45, 0.88, 1.15, 1.47, 1.66, 1.73, 2.12, 2.09], [\"2022-01-05T00:00:00\", 0.05, 0.06, 0.09, 0.22, 0.41, 0.83, 1.1, 1.43, 1.62, 1.71, 2.12, 2.09], [\"2022-01-04T00:00:00\", 0.06, 0.05, 0.08, 0.22, 0.38, 0.77, 1.02, 1.37, 1.57, 1.66, 2.1, 2.07], [\"2022-01-03T00:00:00\", 0.05, 0.06, 0.08, 0.22, 0.4, 0.78, 1.04, 1.37, 1.55, 1.63, 2.05, 2.01]]}],                        {\"height\": 1000, \"scene\": {\"xaxis\": {\"title\": {\"text\": \"Duration\"}}, \"yaxis\": {\"title\": {\"text\": \"Date\"}}, \"zaxis\": {\"title\": {\"text\": \"Yield\"}}}, \"template\": {\"data\": {\"bar\": [{\"error_x\": {\"color\": \"#2a3f5f\"}, \"error_y\": {\"color\": \"#2a3f5f\"}, \"marker\": {\"line\": {\"color\": \"#E5ECF6\", \"width\": 0.5}}, \"type\": \"bar\"}], \"barpolar\": [{\"marker\": {\"line\": {\"color\": \"#E5ECF6\", \"width\": 0.5}}, \"type\": \"barpolar\"}], \"carpet\": [{\"aaxis\": {\"endlinecolor\": \"#2a3f5f\", \"gridcolor\": \"white\", \"linecolor\": \"white\", \"minorgridcolor\": \"white\", \"startlinecolor\": \"#2a3f5f\"}, \"baxis\": {\"endlinecolor\": \"#2a3f5f\", \"gridcolor\": \"white\", \"linecolor\": \"white\", \"minorgridcolor\": \"white\", \"startlinecolor\": \"#2a3f5f\"}, \"type\": \"carpet\"}], \"choropleth\": [{\"colorbar\": {\"outlinewidth\": 0, \"ticks\": \"\"}, \"type\": \"choropleth\"}], \"contour\": [{\"colorbar\": {\"outlinewidth\": 0, \"ticks\": \"\"}, \"colorscale\": [[0.0, \"#0d0887\"], [0.1111111111111111, \"#46039f\"], [0.2222222222222222, \"#7201a8\"], [0.3333333333333333, \"#9c179e\"], [0.4444444444444444, \"#bd3786\"], [0.5555555555555556, \"#d8576b\"], [0.6666666666666666, \"#ed7953\"], [0.7777777777777778, \"#fb9f3a\"], [0.8888888888888888, \"#fdca26\"], [1.0, \"#f0f921\"]], \"type\": \"contour\"}], \"contourcarpet\": [{\"colorbar\": {\"outlinewidth\": 0, \"ticks\": \"\"}, \"type\": \"contourcarpet\"}], \"heatmap\": [{\"colorbar\": {\"outlinewidth\": 0, \"ticks\": \"\"}, \"colorscale\": [[0.0, \"#0d0887\"], [0.1111111111111111, \"#46039f\"], [0.2222222222222222, \"#7201a8\"], [0.3333333333333333, \"#9c179e\"], [0.4444444444444444, \"#bd3786\"], [0.5555555555555556, \"#d8576b\"], [0.6666666666666666, \"#ed7953\"], [0.7777777777777778, \"#fb9f3a\"], [0.8888888888888888, \"#fdca26\"], [1.0, \"#f0f921\"]], \"type\": \"heatmap\"}], \"heatmapgl\": [{\"colorbar\": {\"outlinewidth\": 0, \"ticks\": \"\"}, \"colorscale\": [[0.0, \"#0d0887\"], [0.1111111111111111, \"#46039f\"], [0.2222222222222222, \"#7201a8\"], [0.3333333333333333, \"#9c179e\"], [0.4444444444444444, \"#bd3786\"], [0.5555555555555556, \"#d8576b\"], [0.6666666666666666, \"#ed7953\"], [0.7777777777777778, \"#fb9f3a\"], [0.8888888888888888, \"#fdca26\"], [1.0, \"#f0f921\"]], \"type\": \"heatmapgl\"}], \"histogram\": [{\"marker\": {\"colorbar\": {\"outlinewidth\": 0, \"ticks\": \"\"}}, \"type\": \"histogram\"}], \"histogram2d\": [{\"colorbar\": {\"outlinewidth\": 0, \"ticks\": \"\"}, \"colorscale\": [[0.0, \"#0d0887\"], [0.1111111111111111, \"#46039f\"], [0.2222222222222222, \"#7201a8\"], [0.3333333333333333, \"#9c179e\"], [0.4444444444444444, \"#bd3786\"], [0.5555555555555556, \"#d8576b\"], [0.6666666666666666, \"#ed7953\"], [0.7777777777777778, \"#fb9f3a\"], [0.8888888888888888, \"#fdca26\"], [1.0, \"#f0f921\"]], \"type\": \"histogram2d\"}], \"histogram2dcontour\": [{\"colorbar\": {\"outlinewidth\": 0, \"ticks\": \"\"}, \"colorscale\": [[0.0, \"#0d0887\"], [0.1111111111111111, \"#46039f\"], [0.2222222222222222, \"#7201a8\"], [0.3333333333333333, \"#9c179e\"], [0.4444444444444444, \"#bd3786\"], [0.5555555555555556, \"#d8576b\"], [0.6666666666666666, \"#ed7953\"], [0.7777777777777778, \"#fb9f3a\"], [0.8888888888888888, \"#fdca26\"], [1.0, \"#f0f921\"]], \"type\": \"histogram2dcontour\"}], \"mesh3d\": [{\"colorbar\": {\"outlinewidth\": 0, \"ticks\": \"\"}, \"type\": \"mesh3d\"}], \"parcoords\": [{\"line\": {\"colorbar\": {\"outlinewidth\": 0, \"ticks\": \"\"}}, \"type\": \"parcoords\"}], \"pie\": [{\"automargin\": true, \"type\": \"pie\"}], \"scatter\": [{\"marker\": {\"colorbar\": {\"outlinewidth\": 0, \"ticks\": \"\"}}, \"type\": \"scatter\"}], \"scatter3d\": [{\"line\": {\"colorbar\": {\"outlinewidth\": 0, \"ticks\": \"\"}}, \"marker\": {\"colorbar\": {\"outlinewidth\": 0, \"ticks\": \"\"}}, \"type\": \"scatter3d\"}], \"scattercarpet\": [{\"marker\": {\"colorbar\": {\"outlinewidth\": 0, \"ticks\": \"\"}}, \"type\": \"scattercarpet\"}], \"scattergeo\": [{\"marker\": {\"colorbar\": {\"outlinewidth\": 0, \"ticks\": \"\"}}, \"type\": \"scattergeo\"}], \"scattergl\": [{\"marker\": {\"colorbar\": {\"outlinewidth\": 0, \"ticks\": \"\"}}, \"type\": \"scattergl\"}], \"scattermapbox\": [{\"marker\": {\"colorbar\": {\"outlinewidth\": 0, \"ticks\": \"\"}}, \"type\": \"scattermapbox\"}], \"scatterpolar\": [{\"marker\": {\"colorbar\": {\"outlinewidth\": 0, \"ticks\": \"\"}}, \"type\": \"scatterpolar\"}], \"scatterpolargl\": [{\"marker\": {\"colorbar\": {\"outlinewidth\": 0, \"ticks\": \"\"}}, \"type\": \"scatterpolargl\"}], \"scatterternary\": [{\"marker\": {\"colorbar\": {\"outlinewidth\": 0, \"ticks\": \"\"}}, \"type\": \"scatterternary\"}], \"surface\": [{\"colorbar\": {\"outlinewidth\": 0, \"ticks\": \"\"}, \"colorscale\": [[0.0, \"#0d0887\"], [0.1111111111111111, \"#46039f\"], [0.2222222222222222, \"#7201a8\"], [0.3333333333333333, \"#9c179e\"], [0.4444444444444444, \"#bd3786\"], [0.5555555555555556, \"#d8576b\"], [0.6666666666666666, \"#ed7953\"], [0.7777777777777778, \"#fb9f3a\"], [0.8888888888888888, \"#fdca26\"], [1.0, \"#f0f921\"]], \"type\": \"surface\"}], \"table\": [{\"cells\": {\"fill\": {\"color\": \"#EBF0F8\"}, \"line\": {\"color\": \"white\"}}, \"header\": {\"fill\": {\"color\": \"#C8D4E3\"}, \"line\": {\"color\": \"white\"}}, \"type\": \"table\"}]}, \"layout\": {\"annotationdefaults\": {\"arrowcolor\": \"#2a3f5f\", \"arrowhead\": 0, \"arrowwidth\": 1}, \"coloraxis\": {\"colorbar\": {\"outlinewidth\": 0, \"ticks\": \"\"}}, \"colorscale\": {\"diverging\": [[0, \"#8e0152\"], [0.1, \"#c51b7d\"], [0.2, \"#de77ae\"], [0.3, \"#f1b6da\"], [0.4, \"#fde0ef\"], [0.5, \"#f7f7f7\"], [0.6, \"#e6f5d0\"], [0.7, \"#b8e186\"], [0.8, \"#7fbc41\"], [0.9, \"#4d9221\"], [1, \"#276419\"]], \"sequential\": [[0.0, \"#0d0887\"], [0.1111111111111111, \"#46039f\"], [0.2222222222222222, \"#7201a8\"], [0.3333333333333333, \"#9c179e\"], [0.4444444444444444, \"#bd3786\"], [0.5555555555555556, \"#d8576b\"], [0.6666666666666666, \"#ed7953\"], [0.7777777777777778, \"#fb9f3a\"], [0.8888888888888888, \"#fdca26\"], [1.0, \"#f0f921\"]], \"sequentialminus\": [[0.0, \"#0d0887\"], [0.1111111111111111, \"#46039f\"], [0.2222222222222222, \"#7201a8\"], [0.3333333333333333, \"#9c179e\"], [0.4444444444444444, \"#bd3786\"], [0.5555555555555556, \"#d8576b\"], [0.6666666666666666, \"#ed7953\"], [0.7777777777777778, \"#fb9f3a\"], [0.8888888888888888, \"#fdca26\"], [1.0, \"#f0f921\"]]}, \"colorway\": [\"#636efa\", \"#EF553B\", \"#00cc96\", \"#ab63fa\", \"#FFA15A\", \"#19d3f3\", \"#FF6692\", \"#B6E880\", \"#FF97FF\", \"#FECB52\"], \"font\": {\"color\": \"#2a3f5f\"}, \"geo\": {\"bgcolor\": \"white\", \"lakecolor\": \"white\", \"landcolor\": \"#E5ECF6\", \"showlakes\": true, \"showland\": true, \"subunitcolor\": \"white\"}, \"hoverlabel\": {\"align\": \"left\"}, \"hovermode\": \"closest\", \"mapbox\": {\"style\": \"light\"}, \"paper_bgcolor\": \"white\", \"plot_bgcolor\": \"#E5ECF6\", \"polar\": {\"angularaxis\": {\"gridcolor\": \"white\", \"linecolor\": \"white\", \"ticks\": \"\"}, \"bgcolor\": \"#E5ECF6\", \"radialaxis\": {\"gridcolor\": \"white\", \"linecolor\": \"white\", \"ticks\": \"\"}}, \"scene\": {\"xaxis\": {\"backgroundcolor\": \"#E5ECF6\", \"gridcolor\": \"white\", \"gridwidth\": 2, \"linecolor\": \"white\", \"showbackground\": true, \"ticks\": \"\", \"zerolinecolor\": \"white\"}, \"yaxis\": {\"backgroundcolor\": \"#E5ECF6\", \"gridcolor\": \"white\", \"gridwidth\": 2, \"linecolor\": \"white\", \"showbackground\": true, \"ticks\": \"\", \"zerolinecolor\": \"white\"}, \"zaxis\": {\"backgroundcolor\": \"#E5ECF6\", \"gridcolor\": \"white\", \"gridwidth\": 2, \"linecolor\": \"white\", \"showbackground\": true, \"ticks\": \"\", \"zerolinecolor\": \"white\"}}, \"shapedefaults\": {\"line\": {\"color\": \"#2a3f5f\"}}, \"ternary\": {\"aaxis\": {\"gridcolor\": \"white\", \"linecolor\": \"white\", \"ticks\": \"\"}, \"baxis\": {\"gridcolor\": \"white\", \"linecolor\": \"white\", \"ticks\": \"\"}, \"bgcolor\": \"#E5ECF6\", \"caxis\": {\"gridcolor\": \"white\", \"linecolor\": \"white\", \"ticks\": \"\"}}, \"title\": {\"x\": 0.05}, \"xaxis\": {\"automargin\": true, \"gridcolor\": \"white\", \"linecolor\": \"white\", \"ticks\": \"\", \"title\": {\"standoff\": 15}, \"zerolinecolor\": \"white\", \"zerolinewidth\": 2}, \"yaxis\": {\"automargin\": true, \"gridcolor\": \"white\", \"linecolor\": \"white\", \"ticks\": \"\", \"title\": {\"standoff\": 15}, \"zerolinecolor\": \"white\", \"zerolinewidth\": 2}}}, \"title\": {\"text\": \"Daily Treasury Par Yield Curve Rates 01/03/2022 - 04/14/2022\"}, \"width\": 1000},                        {\"responsive\": true}                    ).then(function(){\n",
       "                            \n",
       "var gd = document.getElementById('91564a93-8d6b-4f94-b021-6c2b130aa817');\n",
       "var x = new MutationObserver(function (mutations, observer) {{\n",
       "        var display = window.getComputedStyle(gd).display;\n",
       "        if (!display || display === 'none') {{\n",
       "            console.log([gd, 'removed!']);\n",
       "            Plotly.purge(gd);\n",
       "            observer.disconnect();\n",
       "        }}\n",
       "}});\n",
       "\n",
       "// Listen for the removal of the full notebook cells\n",
       "var notebookContainer = gd.closest('#notebook-container');\n",
       "if (notebookContainer) {{\n",
       "    x.observe(notebookContainer, {childList: true});\n",
       "}}\n",
       "\n",
       "// Listen for the clearing of the current output cell\n",
       "var outputEl = gd.closest('.output');\n",
       "if (outputEl) {{\n",
       "    x.observe(outputEl, {childList: true});\n",
       "}}\n",
       "\n",
       "                        })                };                });            </script>        </div>"
      ]
     },
     "metadata": {},
     "output_type": "display_data"
    }
   ],
   "source": [
    "import plotly.graph_objects as go\n",
    "fig = go.Figure(data=[go.Surface(x=df.columns, y=df[\"Date\"], z=df.values)])\n",
    "fig.update_layout(title = \"Daily Treasury Par Yield Curve Rates {0} - {1}\".format(start_date, end_date),\\\n",
    "                  width = 1000, height = 1000,\n",
    "                  scene = dict(xaxis_title='Duration', yaxis_title='Date', zaxis_title='Yield'))\n",
    "fig.show()"
   ]
  },
  {
   "cell_type": "markdown",
   "metadata": {},
   "source": [
    "yield curve factor analysis"
   ]
  },
  {
   "cell_type": "code",
   "execution_count": 24,
   "metadata": {},
   "outputs": [],
   "source": [
    "from sklearn.decomposition import PCA\n",
    "pca = PCA(n_components = 3)\n",
    "yield_curve_factors = pca.fit_transform(df2).T"
   ]
  },
  {
   "cell_type": "code",
   "execution_count": 25,
   "metadata": {},
   "outputs": [
    {
     "data": {
      "text/plain": [
       "array([[10.98902114,  9.95749805,  8.77066256,  5.88903665,  2.43336076,\n",
       "        -1.96019251, -3.76084089, -4.84208485, -5.54700626, -5.56738608,\n",
       "        -8.57190512, -7.79016345],\n",
       "       [-1.13084099, -0.64364373, -0.28762852,  0.44357547,  1.39503339,\n",
       "         1.83713395,  1.44050108,  0.42233614, -0.15305612, -0.57967096,\n",
       "        -1.23434741, -1.50939228],\n",
       "       [ 0.03799429,  0.07304949,  0.05025118, -0.16538062, -0.23682386,\n",
       "        -0.14222749,  0.0195218 ,  0.31498895,  0.35608926,  0.29377125,\n",
       "        -0.27048133, -0.33075293]])"
      ]
     },
     "execution_count": 25,
     "metadata": {},
     "output_type": "execute_result"
    }
   ],
   "source": [
    "yield_curve_factors"
   ]
  },
  {
   "cell_type": "code",
   "execution_count": 26,
   "metadata": {},
   "outputs": [
    {
     "data": {
      "text/plain": [
       "array([0.97513262, 0.02325614, 0.00103185])"
      ]
     },
     "execution_count": 26,
     "metadata": {},
     "output_type": "execute_result"
    }
   ],
   "source": [
    "pca.explained_variance_ratio_"
   ]
  },
  {
   "cell_type": "code",
   "execution_count": 27,
   "metadata": {},
   "outputs": [
    {
     "data": {
      "text/plain": [
       "<matplotlib.legend.Legend at 0x1d533073eb0>"
      ]
     },
     "execution_count": 27,
     "metadata": {},
     "output_type": "execute_result"
    },
    {
     "data": {
      "image/png": "[encoded data removed]",
      "text/plain": [
       "<Figure size 1152x576 with 1 Axes>"
      ]
     },
     "metadata": {
      "needs_background": "light"
     },
     "output_type": "display_data"
    }
   ],
   "source": [
    "plt.figure(figsize=(16,8))\n",
    "plt.grid(True)\n",
    "\n",
    "plt.plot(df2.index, yield_curve_factors[0], label = \"factor 1: steepness/slope\", color = \"red\")\n",
    "plt.plot(df2.index, yield_curve_factors[1], label = \"factor 2: ?\", color = \"orange\")\n",
    "plt.plot(df2.index, yield_curve_factors[2], label = \"factor 3: ?\", color = \"green\")\n",
    "\n",
    "plt.title(\"Daily Treasury Par Yield Curve Rates Factors {0} - {1}\".format(start_date, end_date))\n",
    "plt.xlabel(\"Duration\")\n",
    "plt.ylabel(\"Rate Shift\")\n",
    "plt.legend()"
   ]
  },
  {
   "cell_type": "markdown",
   "metadata": {},
   "source": [
    "The first component (factor 1) seems to explain the steepness/slope of the yield curve. In this case, one standard deviation positive change in the first factor, the yield for a 1-month bond would rise by 10.98%, and the yield for a 30-year bond would decline by 7.79%."
   ]
  }
 ],
 "metadata": {
  "kernelspec": {
   "display_name": "Python 3",
   "language": "python",
   "name": "python3"
  },
  "language_info": {
   "codemirror_mode": {
    "name": "ipython",
    "version": 3
   },
   "file_extension": ".py",
   "mimetype": "text/x-python",
   "name": "python",
   "nbconvert_exporter": "python",
   "pygments_lexer": "ipython3",
   "version": "3.8.3"
  }
 },
 "nbformat": 4,
 "nbformat_minor": 4
}
