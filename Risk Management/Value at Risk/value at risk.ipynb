{
 "cells": [
  {
   "cell_type": "markdown",
   "metadata": {},
   "source": [
    "Assume that the return of a portfolio r is a normal random variable:\n",
    "\n",
    "$r \\sim N(\\mu, \\sigma^{2}) $\n",
    "\n",
    "probability density function:\n",
    "\n",
    "$f(r) = \\frac{1}{\\sigma\\sqrt{2\\pi}} e^{-\\frac{1}{2}(\\frac{r - \\mu}{\\sigma})^{2}}$\n",
    "\n",
    "cumulative distribution function:\n",
    "\n",
    "$P(r < r^{*}) = \\int_{-\\infty}^{r^{*}} f(r) dr$\n",
    "\n",
    "$= \\int_{-\\infty}^{r^{*}} \\frac{1}{\\sigma\\sqrt{2\\pi}} e^{-\\frac{1}{2}(\\frac{r - \\mu}{\\sigma})^{2}} dr$\n",
    "\n",
    "$= \\frac{1}{\\sigma\\sqrt{2\\pi}} \\int_{-\\infty}^{r^{*}} e^{-\\frac{1}{2}(\\frac{r - \\mu}{\\sigma})^{2}} dr$\n",
    "\n",
    "$= \\alpha$\n",
    "\n",
    "substitute standard normal random variable:\n",
    "\n",
    "$z = \\frac{r - \\mu} {\\sigma}$\n",
    "\n",
    "$E[z] = E[\\frac{r - \\mu} {\\sigma}] = \\frac{1} {\\sigma} * E[r] - \\frac {\\mu} {\\sigma} = \\frac{\\mu} {\\sigma} - \\frac {\\mu} {\\sigma} = 0$\n",
    "\n",
    "$Var[z] = E[(z - E[z])^{2}] = E[z^2] = E[(\\frac{r - \\mu} {\\sigma})^2] = \\frac{1} {\\sigma^2} E[(r - \\mu)^2] = \\frac{1} {\\sigma^2}Var[r] = \\frac{\\sigma^2} {\\sigma^2} = 1$\n",
    "\n",
    "$z \\sim N(0, 1)$\n",
    "\n",
    "$f(z) = \\frac{1}{\\sqrt{2\\pi}} e^{-\\frac{z^{2}}{2}}$\n",
    "\n",
    "$P(z < z^{*}) = \\int_{-\\infty}^{z^{*}} f(z) dz$\n",
    "\n",
    "$= \\frac{1}{\\sqrt{2\\pi}} \\int_{-\\infty}^{z^{*}} e^{-\\frac{z^{2}}{2}} dz$\n",
    "\n",
    "$= \\alpha$, where\n",
    "\n",
    "$z^{*} = \\frac{r^{*} - \\mu} {\\sigma}$\n",
    "\n",
    "$r^{*} = \\mu + z^{*} * \\sigma$\n",
    "\n",
    "assume that the current portfolio value is $V$, then the value at risk $VaR$ over a period $T$ at $1-\\alpha$ confidence level is\n",
    "\n",
    "$VaR(T, 1-\\alpha)$\n",
    "\n",
    "$ = V * r^{*}$\n",
    "\n",
    "$ = V * (\\mu + z^{*} * \\sigma)$\n",
    " where\n",
    "\n",
    "$P(z < z^{*}) = \\alpha, z \\sim N(0, 1)$"
   ]
  },
  {
   "cell_type": "code",
   "execution_count": 1,
   "metadata": {},
   "outputs": [
    {
     "name": "stdout",
     "output_type": "stream",
     "text": [
      "[*********************100%***********************]  1 of 1 completed\n"
     ]
    },
    {
     "data": {
      "text/html": [
       "<div>\n",
       "<style scoped>\n",
       "    .dataframe tbody tr th:only-of-type {\n",
       "        vertical-align: middle;\n",
       "    }\n",
       "\n",
       "    .dataframe tbody tr th {\n",
       "        vertical-align: top;\n",
       "    }\n",
       "\n",
       "    .dataframe thead th {\n",
       "        text-align: right;\n",
       "    }\n",
       "</style>\n",
       "<table border=\"1\" class=\"dataframe\">\n",
       "  <thead>\n",
       "    <tr style=\"text-align: right;\">\n",
       "      <th></th>\n",
       "      <th>Open</th>\n",
       "      <th>High</th>\n",
       "      <th>Low</th>\n",
       "      <th>Close</th>\n",
       "      <th>Adj Close</th>\n",
       "      <th>Volume</th>\n",
       "    </tr>\n",
       "    <tr>\n",
       "      <th>Date</th>\n",
       "      <th></th>\n",
       "      <th></th>\n",
       "      <th></th>\n",
       "      <th></th>\n",
       "      <th></th>\n",
       "      <th></th>\n",
       "    </tr>\n",
       "  </thead>\n",
       "  <tbody>\n",
       "    <tr>\n",
       "      <th>2021-01-01</th>\n",
       "      <td>0.004681</td>\n",
       "      <td>0.005685</td>\n",
       "      <td>0.004615</td>\n",
       "      <td>0.005685</td>\n",
       "      <td>0.005685</td>\n",
       "      <td>228961515</td>\n",
       "    </tr>\n",
       "    <tr>\n",
       "      <th>2021-01-02</th>\n",
       "      <td>0.005686</td>\n",
       "      <td>0.013698</td>\n",
       "      <td>0.005584</td>\n",
       "      <td>0.010615</td>\n",
       "      <td>0.010615</td>\n",
       "      <td>3421562680</td>\n",
       "    </tr>\n",
       "    <tr>\n",
       "      <th>2021-01-03</th>\n",
       "      <td>0.010602</td>\n",
       "      <td>0.013867</td>\n",
       "      <td>0.009409</td>\n",
       "      <td>0.009771</td>\n",
       "      <td>0.009771</td>\n",
       "      <td>2707003608</td>\n",
       "    </tr>\n",
       "    <tr>\n",
       "      <th>2021-01-04</th>\n",
       "      <td>0.009785</td>\n",
       "      <td>0.011421</td>\n",
       "      <td>0.007878</td>\n",
       "      <td>0.009767</td>\n",
       "      <td>0.009767</td>\n",
       "      <td>1372398979</td>\n",
       "    </tr>\n",
       "    <tr>\n",
       "      <th>2021-01-05</th>\n",
       "      <td>0.009767</td>\n",
       "      <td>0.010219</td>\n",
       "      <td>0.008972</td>\n",
       "      <td>0.009920</td>\n",
       "      <td>0.009920</td>\n",
       "      <td>687256067</td>\n",
       "    </tr>\n",
       "  </tbody>\n",
       "</table>\n",
       "</div>"
      ],
      "text/plain": [
       "                Open      High       Low     Close  Adj Close      Volume\n",
       "Date                                                                     \n",
       "2021-01-01  0.004681  0.005685  0.004615  0.005685   0.005685   228961515\n",
       "2021-01-02  0.005686  0.013698  0.005584  0.010615   0.010615  3421562680\n",
       "2021-01-03  0.010602  0.013867  0.009409  0.009771   0.009771  2707003608\n",
       "2021-01-04  0.009785  0.011421  0.007878  0.009767   0.009767  1372398979\n",
       "2021-01-05  0.009767  0.010219  0.008972  0.009920   0.009920   687256067"
      ]
     },
     "execution_count": 1,
     "metadata": {},
     "output_type": "execute_result"
    }
   ],
   "source": [
    "import yfinance as yf\n",
    "from datetime import datetime\n",
    "import pandas_datareader.data as pdr\n",
    "import scipy.stats as stats\n",
    "\n",
    "yf.pdr_override()\n",
    "ticker = 'DOGE-USD'\n",
    "start = datetime.strptime('2021-01-01', '%Y-%m-%d')\n",
    "end = datetime.strptime('2022-04-16', '%Y-%m-%d')\n",
    "data = pdr.DataReader(ticker, start, end , data_source='yahoo').dropna()\n",
    "\n",
    "data.head()"
   ]
  },
  {
   "cell_type": "code",
   "execution_count": 3,
   "metadata": {},
   "outputs": [
    {
     "name": "stdout",
     "output_type": "stream",
     "text": [
      "current price = 0.14371199905872345\n",
      "portfolio value = 14371.199905872345\n",
      "z* = -1.6448536269514729\n",
      "mean = 0.016074906258590944\n",
      "std = 0.1953475788940141\n",
      "VaR = -4386.712015747414\n"
     ]
    },
    {
     "data": {
      "image/png": "[encoded data removed]",
      "text/plain": [
       "<Figure size 432x288 with 1 Axes>"
      ]
     },
     "metadata": {
      "needs_background": "light"
     },
     "output_type": "display_data"
    }
   ],
   "source": [
    "alpha = 0.05\n",
    "num_shares = 100000\n",
    "on_date = '2022-04-16'\n",
    "share_price = data['Adj Close'][on_date]\n",
    "portfolio_value = share_price * num_shares\n",
    "\n",
    "z_value = stats.norm.ppf(alpha)\n",
    "daily_return = data['Adj Close'].pct_change(1).dropna()\n",
    "mean_return = daily_return.mean()\n",
    "std_return = daily_return.std()\n",
    "\n",
    "VaR = portfolio_value * (mean_return + z_value * std_return) \n",
    "\n",
    "daily_return.plot(kind='kde')\n",
    "\n",
    "print(\"current price = {0}\".format(share_price))\n",
    "print(\"portfolio value = {0}\".format(portfolio_value))\n",
    "print(\"z* = {0}\".format(z_value))\n",
    "print(\"mean = {0}\".format(mean_return))\n",
    "print(\"std = {0}\".format(std_return))\n",
    "print(\"VaR = {0}\".format(VaR))"
   ]
  },
  {
   "cell_type": "code",
   "execution_count": 4,
   "metadata": {},
   "outputs": [
    {
     "name": "stdout",
     "output_type": "stream",
     "text": [
      "Current portfolio value for 100000 shares of DOGE-USD ($0.14 per share) on 2022-04-16: $14371.2\n",
      "5.0% annual value at risk: On 5.0% of trading days, the portfolio of 100000 shares of DOGE-USD stock on 2022-04-16 would be expected to incur a loss of at least $-4386.71\n"
     ]
    }
   ],
   "source": [
    "print(\"Current portfolio value for {0} shares of {1} (${2} per share) on {3}: ${4}\"\\\n",
    "      .format(num_shares, ticker, round(share_price, 2), on_date, round(portfolio_value, 2)))\n",
    "print(\"{0}% annual value at risk: On {1}% of trading days, the portfolio of {2} shares \\\n",
    "of {3} stock on {4} would be expected to incur a loss of at least ${5}\"\\\n",
    "      .format(alpha*100, alpha*100, num_shares, ticker, on_date, round(VaR,2)))"
   ]
  }
 ],
 "metadata": {
  "kernelspec": {
   "display_name": "Python 3",
   "language": "python",
   "name": "python3"
  },
  "language_info": {
   "codemirror_mode": {
    "name": "ipython",
    "version": 3
   },
   "file_extension": ".py",
   "mimetype": "text/x-python",
   "name": "python",
   "nbconvert_exporter": "python",
   "pygments_lexer": "ipython3",
   "version": "3.8.3"
  }
 },
 "nbformat": 4,
 "nbformat_minor": 4
}
